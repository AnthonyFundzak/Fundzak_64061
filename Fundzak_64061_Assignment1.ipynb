{
  "cells": [
    {
      "cell_type": "markdown",
      "metadata": {
        "id": "view-in-github",
        "colab_type": "text"
      },
      "source": [
        "<a href=\"https://colab.research.google.com/github/AnthonyFundzak/Fundzak_64061/blob/main/Fundzak_64061_Assignment1.ipynb\" target=\"_parent\"><img src=\"https://colab.research.google.com/assets/colab-badge.svg\" alt=\"Open In Colab\"/></a>"
      ]
    },
    {
      "cell_type": "markdown",
      "metadata": {
        "id": "pCkC4Bog4Lt4"
      },
      "source": [
        "### The IMDB dataset"
      ]
    },
    {
      "cell_type": "markdown",
      "source": [
        "Assignment 1 Advanced Machine Learning"
      ],
      "metadata": {
        "id": "7O4RYcAxOxtZ"
      }
    },
    {
      "cell_type": "markdown",
      "metadata": {
        "id": "FDcU5jZb4Lt4"
      },
      "source": [
        "**Loading the IMDB dataset**"
      ]
    },
    {
      "cell_type": "code",
      "execution_count": 1,
      "metadata": {
        "id": "oHAr6pVa4Lt5",
        "colab": {
          "base_uri": "https://localhost:8080/"
        },
        "outputId": "1a969310-63b1-473c-d7e4-463302a5fe62"
      },
      "outputs": [
        {
          "output_type": "stream",
          "name": "stdout",
          "text": [
            "Downloading data from https://storage.googleapis.com/tensorflow/tf-keras-datasets/imdb.npz\n",
            "17465344/17464789 [==============================] - 0s 0us/step\n",
            "17473536/17464789 [==============================] - 0s 0us/step\n"
          ]
        }
      ],
      "source": [
        "from tensorflow.keras.datasets import imdb\n",
        "(train_data, train_labels), (test_data, test_labels) = imdb.load_data(\n",
        "    num_words=10000)"
      ]
    },
    {
      "cell_type": "code",
      "execution_count": 2,
      "metadata": {
        "id": "_X8jh8Hl4Lt7",
        "colab": {
          "base_uri": "https://localhost:8080/"
        },
        "outputId": "ca80ac51-c915-4cac-bad2-af82626f8166"
      },
      "outputs": [
        {
          "output_type": "execute_result",
          "data": {
            "text/plain": [
              "[1,\n",
              " 14,\n",
              " 22,\n",
              " 16,\n",
              " 43,\n",
              " 530,\n",
              " 973,\n",
              " 1622,\n",
              " 1385,\n",
              " 65,\n",
              " 458,\n",
              " 4468,\n",
              " 66,\n",
              " 3941,\n",
              " 4,\n",
              " 173,\n",
              " 36,\n",
              " 256,\n",
              " 5,\n",
              " 25,\n",
              " 100,\n",
              " 43,\n",
              " 838,\n",
              " 112,\n",
              " 50,\n",
              " 670,\n",
              " 2,\n",
              " 9,\n",
              " 35,\n",
              " 480,\n",
              " 284,\n",
              " 5,\n",
              " 150,\n",
              " 4,\n",
              " 172,\n",
              " 112,\n",
              " 167,\n",
              " 2,\n",
              " 336,\n",
              " 385,\n",
              " 39,\n",
              " 4,\n",
              " 172,\n",
              " 4536,\n",
              " 1111,\n",
              " 17,\n",
              " 546,\n",
              " 38,\n",
              " 13,\n",
              " 447,\n",
              " 4,\n",
              " 192,\n",
              " 50,\n",
              " 16,\n",
              " 6,\n",
              " 147,\n",
              " 2025,\n",
              " 19,\n",
              " 14,\n",
              " 22,\n",
              " 4,\n",
              " 1920,\n",
              " 4613,\n",
              " 469,\n",
              " 4,\n",
              " 22,\n",
              " 71,\n",
              " 87,\n",
              " 12,\n",
              " 16,\n",
              " 43,\n",
              " 530,\n",
              " 38,\n",
              " 76,\n",
              " 15,\n",
              " 13,\n",
              " 1247,\n",
              " 4,\n",
              " 22,\n",
              " 17,\n",
              " 515,\n",
              " 17,\n",
              " 12,\n",
              " 16,\n",
              " 626,\n",
              " 18,\n",
              " 2,\n",
              " 5,\n",
              " 62,\n",
              " 386,\n",
              " 12,\n",
              " 8,\n",
              " 316,\n",
              " 8,\n",
              " 106,\n",
              " 5,\n",
              " 4,\n",
              " 2223,\n",
              " 5244,\n",
              " 16,\n",
              " 480,\n",
              " 66,\n",
              " 3785,\n",
              " 33,\n",
              " 4,\n",
              " 130,\n",
              " 12,\n",
              " 16,\n",
              " 38,\n",
              " 619,\n",
              " 5,\n",
              " 25,\n",
              " 124,\n",
              " 51,\n",
              " 36,\n",
              " 135,\n",
              " 48,\n",
              " 25,\n",
              " 1415,\n",
              " 33,\n",
              " 6,\n",
              " 22,\n",
              " 12,\n",
              " 215,\n",
              " 28,\n",
              " 77,\n",
              " 52,\n",
              " 5,\n",
              " 14,\n",
              " 407,\n",
              " 16,\n",
              " 82,\n",
              " 2,\n",
              " 8,\n",
              " 4,\n",
              " 107,\n",
              " 117,\n",
              " 5952,\n",
              " 15,\n",
              " 256,\n",
              " 4,\n",
              " 2,\n",
              " 7,\n",
              " 3766,\n",
              " 5,\n",
              " 723,\n",
              " 36,\n",
              " 71,\n",
              " 43,\n",
              " 530,\n",
              " 476,\n",
              " 26,\n",
              " 400,\n",
              " 317,\n",
              " 46,\n",
              " 7,\n",
              " 4,\n",
              " 2,\n",
              " 1029,\n",
              " 13,\n",
              " 104,\n",
              " 88,\n",
              " 4,\n",
              " 381,\n",
              " 15,\n",
              " 297,\n",
              " 98,\n",
              " 32,\n",
              " 2071,\n",
              " 56,\n",
              " 26,\n",
              " 141,\n",
              " 6,\n",
              " 194,\n",
              " 7486,\n",
              " 18,\n",
              " 4,\n",
              " 226,\n",
              " 22,\n",
              " 21,\n",
              " 134,\n",
              " 476,\n",
              " 26,\n",
              " 480,\n",
              " 5,\n",
              " 144,\n",
              " 30,\n",
              " 5535,\n",
              " 18,\n",
              " 51,\n",
              " 36,\n",
              " 28,\n",
              " 224,\n",
              " 92,\n",
              " 25,\n",
              " 104,\n",
              " 4,\n",
              " 226,\n",
              " 65,\n",
              " 16,\n",
              " 38,\n",
              " 1334,\n",
              " 88,\n",
              " 12,\n",
              " 16,\n",
              " 283,\n",
              " 5,\n",
              " 16,\n",
              " 4472,\n",
              " 113,\n",
              " 103,\n",
              " 32,\n",
              " 15,\n",
              " 16,\n",
              " 5345,\n",
              " 19,\n",
              " 178,\n",
              " 32]"
            ]
          },
          "metadata": {},
          "execution_count": 2
        }
      ],
      "source": [
        "train_data[0]"
      ]
    },
    {
      "cell_type": "code",
      "execution_count": 3,
      "metadata": {
        "id": "0sJABzw94Lt8",
        "colab": {
          "base_uri": "https://localhost:8080/"
        },
        "outputId": "75c28063-f927-4729-de88-d7491001c203"
      },
      "outputs": [
        {
          "output_type": "execute_result",
          "data": {
            "text/plain": [
              "1"
            ]
          },
          "metadata": {},
          "execution_count": 3
        }
      ],
      "source": [
        "train_labels[0]"
      ]
    },
    {
      "cell_type": "code",
      "execution_count": 4,
      "metadata": {
        "id": "6QjGuRUc4Lt9",
        "colab": {
          "base_uri": "https://localhost:8080/"
        },
        "outputId": "77149db9-5015-4ec2-8a3e-fcfea208cf43"
      },
      "outputs": [
        {
          "output_type": "execute_result",
          "data": {
            "text/plain": [
              "9999"
            ]
          },
          "metadata": {},
          "execution_count": 4
        }
      ],
      "source": [
        "max([max(sequence) for sequence in train_data])"
      ]
    },
    {
      "cell_type": "markdown",
      "metadata": {
        "id": "Mtj_u_iL4Lt9"
      },
      "source": [
        "**Decoding reviews back to text**"
      ]
    },
    {
      "cell_type": "code",
      "execution_count": 5,
      "metadata": {
        "id": "2Y9re1OE4Lt-",
        "colab": {
          "base_uri": "https://localhost:8080/"
        },
        "outputId": "8591fa85-f57c-4003-e295-0aa63ca6f561"
      },
      "outputs": [
        {
          "output_type": "stream",
          "name": "stdout",
          "text": [
            "Downloading data from https://storage.googleapis.com/tensorflow/tf-keras-datasets/imdb_word_index.json\n",
            "1646592/1641221 [==============================] - 0s 0us/step\n",
            "1654784/1641221 [==============================] - 0s 0us/step\n"
          ]
        }
      ],
      "source": [
        "word_index = imdb.get_word_index()\n",
        "reverse_word_index = dict(\n",
        "    [(value, key) for (key, value) in word_index.items()])\n",
        "decoded_review = \" \".join(\n",
        "    [reverse_word_index.get(i - 3, \"?\") for i in train_data[0]])"
      ]
    },
    {
      "cell_type": "markdown",
      "metadata": {
        "id": "sk60NZ-Z4Lt-"
      },
      "source": [
        "### Preparing the data"
      ]
    },
    {
      "cell_type": "markdown",
      "metadata": {
        "id": "ej7cpQMd4Lt_"
      },
      "source": [
        "**Encoding the integer sequences via multi-hot encoding**"
      ]
    },
    {
      "cell_type": "code",
      "execution_count": 6,
      "metadata": {
        "id": "vEas6Kz54Lt_"
      },
      "outputs": [],
      "source": [
        "import numpy as np\n",
        "def vectorize_sequences(sequences, dimension=10000):\n",
        "    results = np.zeros((len(sequences), dimension))\n",
        "    for i, sequence in enumerate(sequences):\n",
        "        for j in sequence:\n",
        "            results[i, j] = 1.\n",
        "    return results\n",
        "x_train = vectorize_sequences(train_data)\n",
        "x_test = vectorize_sequences(test_data)"
      ]
    },
    {
      "cell_type": "code",
      "execution_count": 7,
      "metadata": {
        "id": "97OmFuIt4LuA",
        "colab": {
          "base_uri": "https://localhost:8080/"
        },
        "outputId": "2aa81f96-8451-4d42-93fb-35a604f5127d"
      },
      "outputs": [
        {
          "output_type": "execute_result",
          "data": {
            "text/plain": [
              "array([0., 1., 1., ..., 0., 0., 0.])"
            ]
          },
          "metadata": {},
          "execution_count": 7
        }
      ],
      "source": [
        "x_train[0]"
      ]
    },
    {
      "cell_type": "code",
      "execution_count": 8,
      "metadata": {
        "id": "aGEhccPA4LuB"
      },
      "outputs": [],
      "source": [
        "y_train = np.asarray(train_labels).astype(\"float32\")\n",
        "y_test = np.asarray(test_labels).astype(\"float32\")"
      ]
    },
    {
      "cell_type": "markdown",
      "metadata": {
        "id": "RyD6JLHg4LuC"
      },
      "source": [
        "### Building your model"
      ]
    },
    {
      "cell_type": "markdown",
      "metadata": {
        "id": "HS4xSnXx4LuD"
      },
      "source": [
        "**Model definition**"
      ]
    },
    {
      "cell_type": "code",
      "execution_count": 9,
      "metadata": {
        "id": "4vnUEohZ4LuD"
      },
      "outputs": [],
      "source": [
        "from tensorflow import keras\n",
        "from tensorflow.keras import layers\n",
        "\n",
        "model = keras.Sequential([\n",
        "    layers.Dense(16, activation=\"relu\"),\n",
        "    layers.Dense(16, activation=\"relu\"),\n",
        "    layers.Dense(1, activation=\"sigmoid\")\n",
        "])"
      ]
    },
    {
      "cell_type": "markdown",
      "metadata": {
        "id": "5kBrARZ64LuF"
      },
      "source": [
        "**Compiling the model**"
      ]
    },
    {
      "cell_type": "code",
      "execution_count": 10,
      "metadata": {
        "id": "K_roqsuK4LuF"
      },
      "outputs": [],
      "source": [
        "model.compile(optimizer=\"rmsprop\",\n",
        "              loss=\"binary_crossentropy\",\n",
        "              metrics=[\"accuracy\"])"
      ]
    },
    {
      "cell_type": "markdown",
      "metadata": {
        "id": "6DL2kPtr4LuG"
      },
      "source": [
        "### Validating your approach"
      ]
    },
    {
      "cell_type": "markdown",
      "metadata": {
        "id": "V59n4jLj4LuH"
      },
      "source": [
        "**Setting aside a validation set**"
      ]
    },
    {
      "cell_type": "code",
      "execution_count": 11,
      "metadata": {
        "id": "v_F0XuIG4LuH"
      },
      "outputs": [],
      "source": [
        "x_val = x_train[:10000]\n",
        "partial_x_train = x_train[10000:]\n",
        "y_val = y_train[:10000]\n",
        "partial_y_train = y_train[10000:]"
      ]
    },
    {
      "cell_type": "markdown",
      "metadata": {
        "id": "EtUgqSl04LuI"
      },
      "source": [
        "**Training your model**"
      ]
    },
    {
      "cell_type": "code",
      "execution_count": 12,
      "metadata": {
        "id": "RdlzWNKj4LuI",
        "colab": {
          "base_uri": "https://localhost:8080/"
        },
        "outputId": "9657e09c-226a-4b4d-832f-b5a4b31dea07"
      },
      "outputs": [
        {
          "output_type": "stream",
          "name": "stdout",
          "text": [
            "Epoch 1/20\n",
            "30/30 [==============================] - 2s 47ms/step - loss: 0.5168 - accuracy: 0.7815 - val_loss: 0.3945 - val_accuracy: 0.8567\n",
            "Epoch 2/20\n",
            "30/30 [==============================] - 1s 33ms/step - loss: 0.3111 - accuracy: 0.8987 - val_loss: 0.3062 - val_accuracy: 0.8876\n",
            "Epoch 3/20\n",
            "30/30 [==============================] - 1s 33ms/step - loss: 0.2255 - accuracy: 0.9274 - val_loss: 0.2891 - val_accuracy: 0.8867\n",
            "Epoch 4/20\n",
            "30/30 [==============================] - 1s 34ms/step - loss: 0.1782 - accuracy: 0.9419 - val_loss: 0.2969 - val_accuracy: 0.8799\n",
            "Epoch 5/20\n",
            "30/30 [==============================] - 1s 34ms/step - loss: 0.1444 - accuracy: 0.9559 - val_loss: 0.3443 - val_accuracy: 0.8647\n",
            "Epoch 6/20\n",
            "30/30 [==============================] - 1s 34ms/step - loss: 0.1203 - accuracy: 0.9622 - val_loss: 0.2910 - val_accuracy: 0.8860\n",
            "Epoch 7/20\n",
            "30/30 [==============================] - 1s 38ms/step - loss: 0.0986 - accuracy: 0.9703 - val_loss: 0.3069 - val_accuracy: 0.8862\n",
            "Epoch 8/20\n",
            "30/30 [==============================] - 1s 34ms/step - loss: 0.0868 - accuracy: 0.9740 - val_loss: 0.3341 - val_accuracy: 0.8769\n",
            "Epoch 9/20\n",
            "30/30 [==============================] - 1s 35ms/step - loss: 0.0702 - accuracy: 0.9823 - val_loss: 0.3527 - val_accuracy: 0.8824\n",
            "Epoch 10/20\n",
            "30/30 [==============================] - 1s 34ms/step - loss: 0.0608 - accuracy: 0.9839 - val_loss: 0.3737 - val_accuracy: 0.8791\n",
            "Epoch 11/20\n",
            "30/30 [==============================] - 1s 33ms/step - loss: 0.0495 - accuracy: 0.9884 - val_loss: 0.3916 - val_accuracy: 0.8779\n",
            "Epoch 12/20\n",
            "30/30 [==============================] - 1s 33ms/step - loss: 0.0403 - accuracy: 0.9915 - val_loss: 0.4226 - val_accuracy: 0.8742\n",
            "Epoch 13/20\n",
            "30/30 [==============================] - 1s 33ms/step - loss: 0.0344 - accuracy: 0.9927 - val_loss: 0.4524 - val_accuracy: 0.8731\n",
            "Epoch 14/20\n",
            "30/30 [==============================] - 1s 33ms/step - loss: 0.0281 - accuracy: 0.9941 - val_loss: 0.4811 - val_accuracy: 0.8747\n",
            "Epoch 15/20\n",
            "30/30 [==============================] - 1s 34ms/step - loss: 0.0212 - accuracy: 0.9964 - val_loss: 0.5494 - val_accuracy: 0.8639\n",
            "Epoch 16/20\n",
            "30/30 [==============================] - 1s 34ms/step - loss: 0.0161 - accuracy: 0.9979 - val_loss: 0.5700 - val_accuracy: 0.8664\n",
            "Epoch 17/20\n",
            "30/30 [==============================] - 1s 34ms/step - loss: 0.0132 - accuracy: 0.9985 - val_loss: 0.5863 - val_accuracy: 0.8679\n",
            "Epoch 18/20\n",
            "30/30 [==============================] - 1s 38ms/step - loss: 0.0118 - accuracy: 0.9983 - val_loss: 0.6139 - val_accuracy: 0.8691\n",
            "Epoch 19/20\n",
            "30/30 [==============================] - 1s 34ms/step - loss: 0.0102 - accuracy: 0.9982 - val_loss: 0.6506 - val_accuracy: 0.8694\n",
            "Epoch 20/20\n",
            "30/30 [==============================] - 1s 33ms/step - loss: 0.0051 - accuracy: 0.9997 - val_loss: 0.6807 - val_accuracy: 0.8666\n"
          ]
        }
      ],
      "source": [
        "history = model.fit(partial_x_train,\n",
        "                    partial_y_train,\n",
        "                    epochs=20,\n",
        "                    batch_size=512,\n",
        "                    validation_data=(x_val, y_val))"
      ]
    },
    {
      "cell_type": "code",
      "execution_count": 13,
      "metadata": {
        "id": "-0ftP6fD4LuJ",
        "colab": {
          "base_uri": "https://localhost:8080/"
        },
        "outputId": "95b5bdc7-db5e-4cbf-815f-8d6e33e097b0"
      },
      "outputs": [
        {
          "output_type": "execute_result",
          "data": {
            "text/plain": [
              "dict_keys(['loss', 'accuracy', 'val_loss', 'val_accuracy'])"
            ]
          },
          "metadata": {},
          "execution_count": 13
        }
      ],
      "source": [
        "history_dict = history.history\n",
        "history_dict.keys()"
      ]
    },
    {
      "cell_type": "markdown",
      "metadata": {
        "id": "c9lSbz2K4LuJ"
      },
      "source": [
        "**Plotting the training and validation loss**"
      ]
    },
    {
      "cell_type": "code",
      "execution_count": 14,
      "metadata": {
        "id": "Mp5YQ5Gr4LuK",
        "colab": {
          "base_uri": "https://localhost:8080/",
          "height": 295
        },
        "outputId": "60221c86-5008-4687-9dd8-bced93e517e5"
      },
      "outputs": [
        {
          "output_type": "display_data",
          "data": {
            "image/png": "[encoded data removed]",
            "text/plain": [
              "<Figure size 432x288 with 1 Axes>"
            ]
          },
          "metadata": {
            "needs_background": "light"
          }
        }
      ],
      "source": [
        "import matplotlib.pyplot as plt\n",
        "history_dict = history.history\n",
        "loss_values = history_dict[\"loss\"]\n",
        "val_loss_values = history_dict[\"val_loss\"]\n",
        "epochs = range(1, len(loss_values) + 1)\n",
        "plt.plot(epochs, loss_values, \"bo\", label=\"Training loss\")\n",
        "plt.plot(epochs, val_loss_values, \"b\", label=\"Validation loss\")\n",
        "plt.title(\"Training and validation loss\")\n",
        "plt.xlabel(\"Epochs\")\n",
        "plt.ylabel(\"Loss\")\n",
        "plt.legend()\n",
        "plt.show()"
      ]
    },
    {
      "cell_type": "markdown",
      "metadata": {
        "id": "q64LpnLy4LuL"
      },
      "source": [
        "**Plotting the training and validation accuracy**"
      ]
    },
    {
      "cell_type": "code",
      "execution_count": 15,
      "metadata": {
        "id": "kNnCFwS24LuL",
        "colab": {
          "base_uri": "https://localhost:8080/",
          "height": 295
        },
        "outputId": "bde86757-7251-4c14-f5e3-ece99dae2889"
      },
      "outputs": [
        {
          "output_type": "display_data",
          "data": {
            "image/png": "[encoded data removed]",
            "text/plain": [
              "<Figure size 432x288 with 1 Axes>"
            ]
          },
          "metadata": {
            "needs_background": "light"
          }
        }
      ],
      "source": [
        "plt.clf()\n",
        "acc = history_dict[\"accuracy\"]\n",
        "val_acc = history_dict[\"val_accuracy\"]\n",
        "plt.plot(epochs, acc, \"bo\", label=\"Training acc\")\n",
        "plt.plot(epochs, val_acc, \"b\", label=\"Validation acc\")\n",
        "plt.title(\"Training and validation accuracy\")\n",
        "plt.xlabel(\"Epochs\")\n",
        "plt.ylabel(\"Accuracy\")\n",
        "plt.legend()\n",
        "plt.show()"
      ]
    },
    {
      "cell_type": "markdown",
      "metadata": {
        "id": "jD2jq_6l4LuM"
      },
      "source": [
        "**Retraining a model from scratch**"
      ]
    },
    {
      "cell_type": "code",
      "execution_count": 35,
      "metadata": {
        "id": "Kx75qRQ-4LuN",
        "colab": {
          "base_uri": "https://localhost:8080/"
        },
        "outputId": "b3da90ed-3828-44db-a855-517e57ce92ea"
      },
      "outputs": [
        {
          "output_type": "stream",
          "name": "stdout",
          "text": [
            "Epoch 1/4\n",
            "49/49 [==============================] - 2s 28ms/step - loss: 0.4579 - accuracy: 0.8236\n",
            "Epoch 2/4\n",
            "49/49 [==============================] - 1s 28ms/step - loss: 0.2666 - accuracy: 0.9078\n",
            "Epoch 3/4\n",
            "49/49 [==============================] - 1s 28ms/step - loss: 0.2048 - accuracy: 0.9270\n",
            "Epoch 4/4\n",
            "49/49 [==============================] - 1s 28ms/step - loss: 0.1697 - accuracy: 0.9417\n",
            "782/782 [==============================] - 2s 2ms/step - loss: 0.2933 - accuracy: 0.8848\n"
          ]
        }
      ],
      "source": [
        "model = keras.Sequential([\n",
        "    layers.Dense(16, activation=\"relu\"),\n",
        "    layers.Dense(16, activation=\"relu\"),\n",
        "    layers.Dense(1, activation=\"sigmoid\")\n",
        "])\n",
        "model.compile(optimizer=\"rmsprop\",\n",
        "              loss=\"binary_crossentropy\",\n",
        "              metrics=[\"accuracy\"])\n",
        "model.fit(x_train, y_train, epochs=4, batch_size=512)\n",
        "results = model.evaluate(x_test, y_test)"
      ]
    },
    {
      "cell_type": "code",
      "execution_count": 17,
      "metadata": {
        "id": "gVRTgPuW4LuP",
        "colab": {
          "base_uri": "https://localhost:8080/"
        },
        "outputId": "3f8bc6af-fc30-4c57-d516-943d08270577"
      },
      "outputs": [
        {
          "output_type": "execute_result",
          "data": {
            "text/plain": [
              "[0.29601797461509705, 0.8814399838447571]"
            ]
          },
          "metadata": {},
          "execution_count": 17
        }
      ],
      "source": [
        "results"
      ]
    },
    {
      "cell_type": "code",
      "source": [
        ""
      ],
      "metadata": {
        "id": "YhJly1StU651"
      },
      "execution_count": null,
      "outputs": []
    },
    {
      "cell_type": "markdown",
      "source": [
        "**USING 3 HIDDEN LAYERS TO SEE HOW VALIDATION AND TEST ACCURACY ARE AFFECTED**"
      ],
      "metadata": {
        "id": "nW1GsfiSPlz2"
      }
    },
    {
      "cell_type": "code",
      "source": [
        "#model with 3 hidden layers instead of 2\n",
        "from tensorflow import keras\n",
        "from tensorflow.keras import layers\n",
        "\n",
        "three_layer_model = keras.Sequential([\n",
        "    layers.Dense(16, activation=\"relu\"),\n",
        "    layers.Dense(16, activation=\"relu\"),\n",
        "    layers.Dense(16, activation=\"relu\"),\n",
        "    layers.Dense(1, activation=\"sigmoid\")\n",
        "])"
      ],
      "metadata": {
        "id": "XK82qiuBPs-U"
      },
      "execution_count": 31,
      "outputs": []
    },
    {
      "cell_type": "code",
      "source": [
        "three_layer_model.compile(optimizer=\"rmsprop\",\n",
        "              loss=\"binary_crossentropy\",\n",
        "              metrics=[\"accuracy\"])"
      ],
      "metadata": {
        "id": "km8VoLfuQMzi"
      },
      "execution_count": 32,
      "outputs": []
    },
    {
      "cell_type": "code",
      "source": [
        "x_val = x_train[:10000]\n",
        "partial_x_train = x_train[10000:]\n",
        "y_val = y_train[:10000]\n",
        "partial_y_train = y_train[10000:]"
      ],
      "metadata": {
        "id": "JJaz5atrQzG6"
      },
      "execution_count": 33,
      "outputs": []
    },
    {
      "cell_type": "code",
      "source": [
        "history_three_layer_model = model.fit(partial_x_train,\n",
        "                    partial_y_train,\n",
        "                    epochs=10,\n",
        "                    batch_size=512,\n",
        "                    validation_data=(x_val, y_val))"
      ],
      "metadata": {
        "colab": {
          "base_uri": "https://localhost:8080/"
        },
        "id": "QCsXZomVRbF9",
        "outputId": "5d3d69ea-5f1c-4a37-8f10-98c540336836"
      },
      "execution_count": 36,
      "outputs": [
        {
          "output_type": "stream",
          "name": "stdout",
          "text": [
            "Epoch 1/10\n",
            "30/30 [==============================] - 2s 53ms/step - loss: 0.1415 - accuracy: 0.9509 - val_loss: 0.1442 - val_accuracy: 0.9505\n",
            "Epoch 2/10\n",
            "30/30 [==============================] - 1s 36ms/step - loss: 0.1189 - accuracy: 0.9610 - val_loss: 0.1550 - val_accuracy: 0.9440\n",
            "Epoch 3/10\n",
            "30/30 [==============================] - 1s 36ms/step - loss: 0.0990 - accuracy: 0.9683 - val_loss: 0.1689 - val_accuracy: 0.9359\n",
            "Epoch 4/10\n",
            "30/30 [==============================] - 1s 35ms/step - loss: 0.0799 - accuracy: 0.9793 - val_loss: 0.1941 - val_accuracy: 0.9280\n",
            "Epoch 5/10\n",
            "30/30 [==============================] - 1s 35ms/step - loss: 0.0676 - accuracy: 0.9832 - val_loss: 0.2051 - val_accuracy: 0.9242\n",
            "Epoch 6/10\n",
            "30/30 [==============================] - 1s 35ms/step - loss: 0.0552 - accuracy: 0.9857 - val_loss: 0.2331 - val_accuracy: 0.9178\n",
            "Epoch 7/10\n",
            "30/30 [==============================] - 1s 35ms/step - loss: 0.0443 - accuracy: 0.9903 - val_loss: 0.2481 - val_accuracy: 0.9169\n",
            "Epoch 8/10\n",
            "30/30 [==============================] - 1s 35ms/step - loss: 0.0360 - accuracy: 0.9922 - val_loss: 0.2813 - val_accuracy: 0.9092\n",
            "Epoch 9/10\n",
            "30/30 [==============================] - 1s 36ms/step - loss: 0.0296 - accuracy: 0.9941 - val_loss: 0.2953 - val_accuracy: 0.9089\n",
            "Epoch 10/10\n",
            "30/30 [==============================] - 1s 36ms/step - loss: 0.0204 - accuracy: 0.9967 - val_loss: 0.3242 - val_accuracy: 0.9064\n"
          ]
        }
      ]
    },
    {
      "cell_type": "code",
      "source": [
        "history_dict_3layers = history.history\n",
        "history_dict_3layers.keys()"
      ],
      "metadata": {
        "colab": {
          "base_uri": "https://localhost:8080/"
        },
        "id": "YG-_HEf7SQPF",
        "outputId": "3ca2cc59-3c15-4c53-abd3-1600e0133d39"
      },
      "execution_count": 39,
      "outputs": [
        {
          "output_type": "execute_result",
          "data": {
            "text/plain": [
              "dict_keys(['loss', 'accuracy', 'val_loss', 'val_accuracy'])"
            ]
          },
          "metadata": {},
          "execution_count": 39
        }
      ]
    },
    {
      "cell_type": "code",
      "source": [
        "import matplotlib.pyplot as plt\n",
        "history_dict = history_three_layer_model.history\n",
        "loss_values = history_dict_3layers[\"loss\"]\n",
        "val_loss_values = history_dict_3layers[\"val_loss\"]\n",
        "epochs = range(1, len(loss_values) + 1)\n",
        "plt.plot(epochs, loss_values, \"bo\", label=\"Training loss\")\n",
        "plt.plot(epochs, val_loss_values, \"b\", label=\"Validation loss\")\n",
        "plt.title(\"Training and validation loss\")\n",
        "plt.xlabel(\"Epochs\")\n",
        "plt.ylabel(\"Loss\")\n",
        "plt.legend()\n",
        "plt.show()"
      ],
      "metadata": {
        "colab": {
          "base_uri": "https://localhost:8080/",
          "height": 295
        },
        "id": "AyAtQsljSZq0",
        "outputId": "8ac5a03e-a225-4973-9934-fc37e7b8169d"
      },
      "execution_count": 40,
      "outputs": [
        {
          "output_type": "display_data",
          "data": {
            "image/png": "[encoded data removed]",
            "text/plain": [
              "<Figure size 432x288 with 1 Axes>"
            ]
          },
          "metadata": {
            "needs_background": "light"
          }
        }
      ]
    },
    {
      "cell_type": "code",
      "source": [
        "plt.clf()\n",
        "acc = history_dict_3layers[\"accuracy\"]\n",
        "val_acc = history_dict_3layers[\"val_accuracy\"]\n",
        "plt.plot(epochs, acc, \"bo\", label=\"Training acc\")\n",
        "plt.plot(epochs, val_acc, \"b\", label=\"Validation acc\")\n",
        "plt.title(\"Training and validation accuracy\")\n",
        "plt.xlabel(\"Epochs\")\n",
        "plt.ylabel(\"Accuracy\")\n",
        "plt.legend()\n",
        "plt.show()"
      ],
      "metadata": {
        "colab": {
          "base_uri": "https://localhost:8080/",
          "height": 295
        },
        "id": "3U2Cnfv2TpHn",
        "outputId": "5d4d31c8-a379-4fc8-dcf0-56752039bf28"
      },
      "execution_count": 41,
      "outputs": [
        {
          "output_type": "display_data",
          "data": {
            "image/png": "[encoded data removed]",
            "text/plain": [
              "<Figure size 432x288 with 1 Axes>"
            ]
          },
          "metadata": {
            "needs_background": "light"
          }
        }
      ]
    },
    {
      "cell_type": "markdown",
      "source": [
        "QUESTION 1: By adding a third hidden layer to the data set,the accuracy becomes more unsteady than having two layers. There is a continous decrease in the validationn accuracy in both 2 hidden and 3 hidden layers but 3 hidden layers experiences more sudden drops in accuracy of the vallidation. Training seems to inncrease at a slightly higher rate in the 3 hidden layer experientment showing the two hidden layers was overall a better fit for the dataset.  "
      ],
      "metadata": {
        "id": "9IR0YAHoT44p"
      }
    },
    {
      "cell_type": "markdown",
      "source": [
        "**USING THE ORIGINAL 2 LAYERS WITH MORE HIDDEN UNITS. AND INCREASE FROM 16 TO 32**\n"
      ],
      "metadata": {
        "id": "s-S9l2XtVTV5"
      }
    },
    {
      "cell_type": "code",
      "source": [
        "#model with 2 hidden layers and a chnage to 32 units each within the hidden layers\n",
        "from tensorflow import keras\n",
        "from tensorflow.keras import layers\n",
        "\n",
        "hiddenunits32 = keras.Sequential([\n",
        "    layers.Dense(32, activation=\"relu\"),\n",
        "    layers.Dense(32, activation=\"relu\"),\n",
        "    layers.Dense(1, activation=\"sigmoid\")\n",
        "])"
      ],
      "metadata": {
        "id": "sbF1LDZtVuha"
      },
      "execution_count": 62,
      "outputs": []
    },
    {
      "cell_type": "code",
      "source": [
        "hiddenunits32.compile(optimizer=\"rmsprop\",\n",
        "              loss=\"binary_crossentropy\",\n",
        "              metrics=[\"accuracy\"])"
      ],
      "metadata": {
        "id": "ugHzlcd_V-N3"
      },
      "execution_count": 63,
      "outputs": []
    },
    {
      "cell_type": "code",
      "source": [
        "x_val = x_train[:10000]\n",
        "partial_x_train = x_train[10000:]\n",
        "y_val = y_train[:10000]\n",
        "partial_y_train = y_train[10000:]"
      ],
      "metadata": {
        "id": "NwVU9H2VWOGl"
      },
      "execution_count": 64,
      "outputs": []
    },
    {
      "cell_type": "code",
      "source": [
        "history_hiddenunits32 = hiddenunits32.fit(partial_x_train,\n",
        "                    partial_y_train,\n",
        "                    epochs=10,\n",
        "                    batch_size=512,\n",
        "                    validation_data=(x_val, y_val))"
      ],
      "metadata": {
        "colab": {
          "base_uri": "https://localhost:8080/"
        },
        "id": "pStPntyzWO7d",
        "outputId": "e05bebf4-786d-4364-c55c-8d75283d40f8"
      },
      "execution_count": 65,
      "outputs": [
        {
          "output_type": "stream",
          "name": "stdout",
          "text": [
            "Epoch 1/10\n",
            "30/30 [==============================] - 3s 63ms/step - loss: 0.4920 - accuracy: 0.7853 - val_loss: 0.3644 - val_accuracy: 0.8582\n",
            "Epoch 2/10\n",
            "30/30 [==============================] - 1s 42ms/step - loss: 0.2729 - accuracy: 0.9053 - val_loss: 0.2838 - val_accuracy: 0.8916\n",
            "Epoch 3/10\n",
            "30/30 [==============================] - 1s 41ms/step - loss: 0.1957 - accuracy: 0.9319 - val_loss: 0.3006 - val_accuracy: 0.8800\n",
            "Epoch 4/10\n",
            "30/30 [==============================] - 1s 40ms/step - loss: 0.1541 - accuracy: 0.9465 - val_loss: 0.2898 - val_accuracy: 0.8849\n",
            "Epoch 5/10\n",
            "30/30 [==============================] - 1s 41ms/step - loss: 0.1207 - accuracy: 0.9586 - val_loss: 0.3060 - val_accuracy: 0.8851\n",
            "Epoch 6/10\n",
            "30/30 [==============================] - 1s 41ms/step - loss: 0.0943 - accuracy: 0.9697 - val_loss: 0.3489 - val_accuracy: 0.8745\n",
            "Epoch 7/10\n",
            "30/30 [==============================] - 1s 41ms/step - loss: 0.0700 - accuracy: 0.9815 - val_loss: 0.3588 - val_accuracy: 0.8782\n",
            "Epoch 8/10\n",
            "30/30 [==============================] - 1s 40ms/step - loss: 0.0669 - accuracy: 0.9791 - val_loss: 0.3945 - val_accuracy: 0.8790\n",
            "Epoch 9/10\n",
            "30/30 [==============================] - 1s 40ms/step - loss: 0.0445 - accuracy: 0.9875 - val_loss: 0.4100 - val_accuracy: 0.8792\n",
            "Epoch 10/10\n",
            "30/30 [==============================] - 1s 41ms/step - loss: 0.0389 - accuracy: 0.9899 - val_loss: 0.4381 - val_accuracy: 0.8765\n"
          ]
        }
      ]
    },
    {
      "cell_type": "code",
      "source": [
        "history_dict_hiddenunits32 = history.history\n",
        "history_dict_hiddenunits32.keys()"
      ],
      "metadata": {
        "colab": {
          "base_uri": "https://localhost:8080/"
        },
        "id": "OJSrTXBIWbeG",
        "outputId": "5d156954-7d4c-46b0-f64e-92a565830501"
      },
      "execution_count": 66,
      "outputs": [
        {
          "output_type": "execute_result",
          "data": {
            "text/plain": [
              "dict_keys(['loss', 'accuracy', 'val_loss', 'val_accuracy'])"
            ]
          },
          "metadata": {},
          "execution_count": 66
        }
      ]
    },
    {
      "cell_type": "code",
      "source": [
        "import matplotlib.pyplot as plt\n",
        "history_dict_hiddenunits32 = history_hiddenunits32.history\n",
        "loss_values = history_dict_hiddenunits32[\"loss\"]\n",
        "val_loss_values = history_dict_hiddenunits32[\"val_loss\"]\n",
        "epochs = range(1, len(loss_values) + 1)\n",
        "plt.plot(epochs, loss_values, \"bo\", label=\"Training loss\")\n",
        "plt.plot(epochs, val_loss_values, \"b\", label=\"Validation loss\")\n",
        "plt.title(\"Training and validation loss\")\n",
        "plt.xlabel(\"Epochs\")\n",
        "plt.ylabel(\"Loss\")\n",
        "plt.legend()\n",
        "plt.show()"
      ],
      "metadata": {
        "colab": {
          "base_uri": "https://localhost:8080/",
          "height": 295
        },
        "id": "X9mMIgmSWiZ3",
        "outputId": "51dfb0ae-fcbc-44d1-84a0-a809be3fbad2"
      },
      "execution_count": 67,
      "outputs": [
        {
          "output_type": "display_data",
          "data": {
            "image/png": "[encoded data removed]",
            "text/plain": [
              "<Figure size 432x288 with 1 Axes>"
            ]
          },
          "metadata": {
            "needs_background": "light"
          }
        }
      ]
    },
    {
      "cell_type": "code",
      "source": [
        "plt.clf()\n",
        "acc = history_dict_hiddenunits32[\"accuracy\"]\n",
        "val_acc = history_dict_hiddenunits32[\"val_accuracy\"]\n",
        "plt.plot(epochs, acc, \"bo\", label=\"Training acc\")\n",
        "plt.plot(epochs, val_acc, \"b\", label=\"Validation acc\")\n",
        "plt.title(\"Training and validation accuracy\")\n",
        "plt.xlabel(\"Epochs\")\n",
        "plt.ylabel(\"Accuracy\")\n",
        "plt.legend()\n",
        "plt.show()"
      ],
      "metadata": {
        "colab": {
          "base_uri": "https://localhost:8080/",
          "height": 295
        },
        "id": "oTyn1hx6YcGn",
        "outputId": "31552295-c63e-479d-edd3-d5ec99e073f4"
      },
      "execution_count": 68,
      "outputs": [
        {
          "output_type": "display_data",
          "data": {
            "image/png": "[encoded data removed]",
            "text/plain": [
              "<Figure size 432x288 with 1 Axes>"
            ]
          },
          "metadata": {
            "needs_background": "light"
          }
        }
      ]
    },
    {
      "cell_type": "markdown",
      "source": [
        "QUESTION 2: Adding more units to the hidden layer seems to increase the accuracy of the validation data. The accuracy tends to hover around .875 which is a higher average than what it holds at 16 units."
      ],
      "metadata": {
        "id": "msNhgIbtYk0p"
      }
    },
    {
      "cell_type": "markdown",
      "source": [
        "USING THE MSE LOSS FUNCTION IN PLACE OF THE BINARY_CROSSENTROPY"
      ],
      "metadata": {
        "id": "py5QDE_SaaLF"
      }
    },
    {
      "cell_type": "code",
      "source": [
        "#Reverting back to the original model of 2 hidden layers, 16 units in order to compare the MSE Loss function to the binary_crossentrapy\n",
        "from tensorflow import keras\n",
        "from tensorflow.keras import layers\n",
        "\n",
        "MSEmodel = keras.Sequential([\n",
        "    layers.Dense(16, activation=\"relu\"),\n",
        "    layers.Dense(16, activation=\"relu\"),\n",
        "    layers.Dense(1, activation=\"sigmoid\")\n",
        "])"
      ],
      "metadata": {
        "id": "evia1RFVahVT"
      },
      "execution_count": 71,
      "outputs": []
    },
    {
      "cell_type": "markdown",
      "source": [
        "Here is where you would insert the new loss function, MSE"
      ],
      "metadata": {
        "id": "SRy3DSkpbWHz"
      }
    },
    {
      "cell_type": "code",
      "source": [
        "MSEmodel.compile(optimizer=\"rmsprop\",\n",
        "              loss=\"MSE\",\n",
        "              metrics=[\"accuracy\"])"
      ],
      "metadata": {
        "id": "NQWagjjHbEUZ"
      },
      "execution_count": 73,
      "outputs": []
    },
    {
      "cell_type": "code",
      "source": [
        "x_val = x_train[:10000]\n",
        "partial_x_train = x_train[10000:]\n",
        "y_val = y_train[:10000]\n",
        "partial_y_train = y_train[10000:]"
      ],
      "metadata": {
        "id": "EAw4wyb6bgCQ"
      },
      "execution_count": 74,
      "outputs": []
    },
    {
      "cell_type": "code",
      "source": [
        "history_MSEmodel = MSEmodel.fit(partial_x_train,\n",
        "                    partial_y_train,\n",
        "                    epochs=20,\n",
        "                    batch_size=512,\n",
        "                    validation_data=(x_val, y_val))"
      ],
      "metadata": {
        "colab": {
          "base_uri": "https://localhost:8080/"
        },
        "id": "Hu3zBR1JbhJZ",
        "outputId": "fb5cb23c-c148-4745-bd14-3e1b8833a67e"
      },
      "execution_count": 77,
      "outputs": [
        {
          "output_type": "stream",
          "name": "stdout",
          "text": [
            "Epoch 1/20\n",
            "30/30 [==============================] - 4s 103ms/step - loss: 0.1703 - accuracy: 0.7735 - val_loss: 0.1192 - val_accuracy: 0.8727\n",
            "Epoch 2/20\n",
            "30/30 [==============================] - 1s 35ms/step - loss: 0.0902 - accuracy: 0.9067 - val_loss: 0.0952 - val_accuracy: 0.8861\n",
            "Epoch 3/20\n",
            "30/30 [==============================] - 1s 34ms/step - loss: 0.0647 - accuracy: 0.9303 - val_loss: 0.0888 - val_accuracy: 0.8832\n",
            "Epoch 4/20\n",
            "30/30 [==============================] - 1s 34ms/step - loss: 0.0501 - accuracy: 0.9467 - val_loss: 0.0856 - val_accuracy: 0.8864\n",
            "Epoch 5/20\n",
            "30/30 [==============================] - 1s 34ms/step - loss: 0.0395 - accuracy: 0.9594 - val_loss: 0.0870 - val_accuracy: 0.8822\n",
            "Epoch 6/20\n",
            "30/30 [==============================] - 1s 35ms/step - loss: 0.0327 - accuracy: 0.9679 - val_loss: 0.0855 - val_accuracy: 0.8841\n",
            "Epoch 7/20\n",
            "30/30 [==============================] - 1s 35ms/step - loss: 0.0275 - accuracy: 0.9739 - val_loss: 0.0875 - val_accuracy: 0.8822\n",
            "Epoch 8/20\n",
            "30/30 [==============================] - 1s 34ms/step - loss: 0.0219 - accuracy: 0.9803 - val_loss: 0.0883 - val_accuracy: 0.8815\n",
            "Epoch 9/20\n",
            "30/30 [==============================] - 1s 37ms/step - loss: 0.0182 - accuracy: 0.9839 - val_loss: 0.0928 - val_accuracy: 0.8753\n",
            "Epoch 10/20\n",
            "30/30 [==============================] - 1s 35ms/step - loss: 0.0147 - accuracy: 0.9869 - val_loss: 0.0936 - val_accuracy: 0.8772\n",
            "Epoch 11/20\n",
            "30/30 [==============================] - 1s 34ms/step - loss: 0.0118 - accuracy: 0.9905 - val_loss: 0.0962 - val_accuracy: 0.8743\n",
            "Epoch 12/20\n",
            "30/30 [==============================] - 1s 35ms/step - loss: 0.0103 - accuracy: 0.9914 - val_loss: 0.0984 - val_accuracy: 0.8728\n",
            "Epoch 13/20\n",
            "30/30 [==============================] - 1s 34ms/step - loss: 0.0085 - accuracy: 0.9933 - val_loss: 0.1001 - val_accuracy: 0.8712\n",
            "Epoch 14/20\n",
            "30/30 [==============================] - 1s 34ms/step - loss: 0.0080 - accuracy: 0.9931 - val_loss: 0.1026 - val_accuracy: 0.8688\n",
            "Epoch 15/20\n",
            "30/30 [==============================] - 1s 34ms/step - loss: 0.0065 - accuracy: 0.9949 - val_loss: 0.1036 - val_accuracy: 0.8702\n",
            "Epoch 16/20\n",
            "30/30 [==============================] - 1s 35ms/step - loss: 0.0047 - accuracy: 0.9965 - val_loss: 0.1077 - val_accuracy: 0.8634\n",
            "Epoch 17/20\n",
            "30/30 [==============================] - 1s 34ms/step - loss: 0.0064 - accuracy: 0.9937 - val_loss: 0.1072 - val_accuracy: 0.8677\n",
            "Epoch 18/20\n",
            "30/30 [==============================] - 1s 34ms/step - loss: 0.0036 - accuracy: 0.9969 - val_loss: 0.1117 - val_accuracy: 0.8615\n",
            "Epoch 19/20\n",
            "30/30 [==============================] - 1s 35ms/step - loss: 0.0050 - accuracy: 0.9951 - val_loss: 0.1096 - val_accuracy: 0.8646\n",
            "Epoch 20/20\n",
            "30/30 [==============================] - 1s 34ms/step - loss: 0.0029 - accuracy: 0.9973 - val_loss: 0.1110 - val_accuracy: 0.8650\n"
          ]
        }
      ]
    },
    {
      "cell_type": "code",
      "source": [
        "history_dict_MSEmodel = history.history\n",
        "history_dict_MSEmodel.keys()"
      ],
      "metadata": {
        "colab": {
          "base_uri": "https://localhost:8080/"
        },
        "id": "Fk6KP6pPb7XQ",
        "outputId": "57195b4b-6912-4925-ff18-d454bc978eba"
      },
      "execution_count": 78,
      "outputs": [
        {
          "output_type": "execute_result",
          "data": {
            "text/plain": [
              "dict_keys(['loss', 'accuracy', 'val_loss', 'val_accuracy'])"
            ]
          },
          "metadata": {},
          "execution_count": 78
        }
      ]
    },
    {
      "cell_type": "code",
      "source": [
        "import matplotlib.pyplot as plt\n",
        "history_dict_MSEmodel = history_MSEmodel.history\n",
        "loss_values = history_dict_MSEmodel[\"loss\"]\n",
        "val_loss_values = history_dict_MSEmodel[\"val_loss\"]\n",
        "epochs = range(1, len(loss_values) + 1)\n",
        "plt.plot(epochs, loss_values, \"bo\", label=\"Training loss\")\n",
        "plt.plot(epochs, val_loss_values, \"b\", label=\"Validation loss\")\n",
        "plt.title(\"Training and validation loss\")\n",
        "plt.xlabel(\"Epochs\")\n",
        "plt.ylabel(\"Loss\")\n",
        "plt.legend()\n",
        "plt.show()"
      ],
      "metadata": {
        "colab": {
          "base_uri": "https://localhost:8080/",
          "height": 295
        },
        "id": "38u7JadPcE19",
        "outputId": "e7826a98-a392-4390-f50a-bfc411562d1f"
      },
      "execution_count": 79,
      "outputs": [
        {
          "output_type": "display_data",
          "data": {
            "image/png": "[encoded data removed]",
            "text/plain": [
              "<Figure size 432x288 with 1 Axes>"
            ]
          },
          "metadata": {
            "needs_background": "light"
          }
        }
      ]
    },
    {
      "cell_type": "code",
      "source": [
        "plt.clf()\n",
        "acc = history_dict_MSEmodel[\"accuracy\"]\n",
        "val_acc = history_dict_MSEmodel[\"val_accuracy\"]\n",
        "plt.plot(epochs, acc, \"bo\", label=\"Training acc\")\n",
        "plt.plot(epochs, val_acc, \"b\", label=\"Validation acc\")\n",
        "plt.title(\"Training and validation accuracy\")\n",
        "plt.xlabel(\"Epochs\")\n",
        "plt.ylabel(\"Accuracy\")\n",
        "plt.legend()\n",
        "plt.show()"
      ],
      "metadata": {
        "colab": {
          "base_uri": "https://localhost:8080/",
          "height": 295
        },
        "id": "yd8G2QjQceHt",
        "outputId": "3d37b0f7-5f6c-4d15-a72b-2310d4787267"
      },
      "execution_count": 80,
      "outputs": [
        {
          "output_type": "display_data",
          "data": {
            "image/png": "[encoded data removed]",
            "text/plain": [
              "<Figure size 432x288 with 1 Axes>"
            ]
          },
          "metadata": {
            "needs_background": "light"
          }
        }
      ]
    },
    {
      "cell_type": "markdown",
      "source": [
        "QUESTION 3: Using MSE loss function made the validation accuracy stay more consistent with reduced peaks and bottom out. The MSE function seems to work slightly better for this problem."
      ],
      "metadata": {
        "id": "IXk-BXcgck9g"
      }
    },
    {
      "cell_type": "markdown",
      "source": [
        "USINNG TANH ACTIVATION IN PLACE OF RELU ACTIVATION FUNNCTION"
      ],
      "metadata": {
        "id": "DYs0wWPcfSjO"
      }
    },
    {
      "cell_type": "code",
      "source": [
        "#Right off the bat is where we introduce the tanh activationn function\n",
        "from tensorflow import keras\n",
        "from tensorflow.keras import layers\n",
        "\n",
        "TANHmodel = keras.Sequential([\n",
        "    layers.Dense(16, activation=\"tanh\"),\n",
        "    layers.Dense(16, activation=\"tanh\"),\n",
        "    layers.Dense(1, activation=\"sigmoid\")\n",
        "])"
      ],
      "metadata": {
        "id": "LY7gahO9fZTB"
      },
      "execution_count": 81,
      "outputs": []
    },
    {
      "cell_type": "code",
      "source": [
        "#Here I go back to binary_crossentropy to realte results back to original functions\n",
        "TANHmodel.compile(optimizer=\"rmsprop\",\n",
        "              loss=\"binary_crossentropy\",\n",
        "              metrics=[\"accuracy\"])"
      ],
      "metadata": {
        "id": "u-guSjkcf09q"
      },
      "execution_count": 84,
      "outputs": []
    },
    {
      "cell_type": "code",
      "source": [
        "x_val = x_train[:10000]\n",
        "partial_x_train = x_train[10000:]\n",
        "y_val = y_train[:10000]\n",
        "partial_y_train = y_train[10000:]"
      ],
      "metadata": {
        "id": "F_Kf0jrGgFSD"
      },
      "execution_count": 85,
      "outputs": []
    },
    {
      "cell_type": "code",
      "source": [
        "history_TANHmodel = TANHmodel.fit(partial_x_train,\n",
        "                    partial_y_train,\n",
        "                    epochs=20,\n",
        "                    batch_size=512,\n",
        "                    validation_data=(x_val, y_val))"
      ],
      "metadata": {
        "colab": {
          "base_uri": "https://localhost:8080/"
        },
        "id": "Ht_3OV5JgLe4",
        "outputId": "8a168fad-9f6d-4099-bcd3-42bc32003422"
      },
      "execution_count": 86,
      "outputs": [
        {
          "output_type": "stream",
          "name": "stdout",
          "text": [
            "Epoch 1/20\n",
            "30/30 [==============================] - 3s 62ms/step - loss: 0.4798 - accuracy: 0.8107 - val_loss: 0.3620 - val_accuracy: 0.8711\n",
            "Epoch 2/20\n",
            "30/30 [==============================] - 1s 43ms/step - loss: 0.2814 - accuracy: 0.9069 - val_loss: 0.2955 - val_accuracy: 0.8837\n",
            "Epoch 3/20\n",
            "30/30 [==============================] - 1s 46ms/step - loss: 0.2016 - accuracy: 0.9318 - val_loss: 0.2800 - val_accuracy: 0.8866\n",
            "Epoch 4/20\n",
            "30/30 [==============================] - 1s 43ms/step - loss: 0.1544 - accuracy: 0.9477 - val_loss: 0.3015 - val_accuracy: 0.8809\n",
            "Epoch 5/20\n",
            "30/30 [==============================] - 2s 54ms/step - loss: 0.1155 - accuracy: 0.9646 - val_loss: 0.3225 - val_accuracy: 0.8724\n",
            "Epoch 6/20\n",
            "30/30 [==============================] - 1s 50ms/step - loss: 0.0932 - accuracy: 0.9709 - val_loss: 0.3278 - val_accuracy: 0.8788\n",
            "Epoch 7/20\n",
            "30/30 [==============================] - 1s 49ms/step - loss: 0.0746 - accuracy: 0.9765 - val_loss: 0.4130 - val_accuracy: 0.8636\n",
            "Epoch 8/20\n",
            "30/30 [==============================] - 1s 47ms/step - loss: 0.0558 - accuracy: 0.9845 - val_loss: 0.4008 - val_accuracy: 0.8759\n",
            "Epoch 9/20\n",
            "30/30 [==============================] - 1s 48ms/step - loss: 0.0425 - accuracy: 0.9889 - val_loss: 0.5016 - val_accuracy: 0.8647\n",
            "Epoch 10/20\n",
            "30/30 [==============================] - 2s 65ms/step - loss: 0.0336 - accuracy: 0.9909 - val_loss: 0.5005 - val_accuracy: 0.8712\n",
            "Epoch 11/20\n",
            "30/30 [==============================] - 2s 53ms/step - loss: 0.0296 - accuracy: 0.9919 - val_loss: 0.5277 - val_accuracy: 0.8715\n",
            "Epoch 12/20\n",
            "30/30 [==============================] - 2s 55ms/step - loss: 0.0144 - accuracy: 0.9976 - val_loss: 0.7656 - val_accuracy: 0.8416\n",
            "Epoch 13/20\n",
            "30/30 [==============================] - 2s 61ms/step - loss: 0.0142 - accuracy: 0.9971 - val_loss: 0.6182 - val_accuracy: 0.8676\n",
            "Epoch 14/20\n",
            "30/30 [==============================] - 1s 44ms/step - loss: 0.0161 - accuracy: 0.9948 - val_loss: 0.6531 - val_accuracy: 0.8672\n",
            "Epoch 15/20\n",
            "30/30 [==============================] - 2s 63ms/step - loss: 0.0176 - accuracy: 0.9955 - val_loss: 0.6933 - val_accuracy: 0.8685\n",
            "Epoch 16/20\n",
            "30/30 [==============================] - 2s 54ms/step - loss: 0.0032 - accuracy: 0.9996 - val_loss: 0.7179 - val_accuracy: 0.8632\n",
            "Epoch 17/20\n",
            "30/30 [==============================] - 2s 53ms/step - loss: 0.0170 - accuracy: 0.9951 - val_loss: 0.7665 - val_accuracy: 0.8596\n",
            "Epoch 18/20\n",
            "30/30 [==============================] - 1s 43ms/step - loss: 0.0017 - accuracy: 0.9999 - val_loss: 0.7689 - val_accuracy: 0.8640\n",
            "Epoch 19/20\n",
            "30/30 [==============================] - 1s 44ms/step - loss: 0.0012 - accuracy: 0.9999 - val_loss: 0.8043 - val_accuracy: 0.8637\n",
            "Epoch 20/20\n",
            "30/30 [==============================] - 1s 46ms/step - loss: 4.6791e-04 - accuracy: 1.0000 - val_loss: 0.8817 - val_accuracy: 0.8615\n"
          ]
        }
      ]
    },
    {
      "cell_type": "code",
      "source": [
        "history_dict_TANHmodel = history.history\n",
        "history_dict_TANHmodel.keys()"
      ],
      "metadata": {
        "colab": {
          "base_uri": "https://localhost:8080/"
        },
        "id": "GXM6k7mHgdxB",
        "outputId": "e11731cb-ce14-4818-d80b-a37c12997473"
      },
      "execution_count": 87,
      "outputs": [
        {
          "output_type": "execute_result",
          "data": {
            "text/plain": [
              "dict_keys(['loss', 'accuracy', 'val_loss', 'val_accuracy'])"
            ]
          },
          "metadata": {},
          "execution_count": 87
        }
      ]
    },
    {
      "cell_type": "code",
      "source": [
        "import matplotlib.pyplot as plt\n",
        "history_dict_TANHmodel = history_TANHmodel.history\n",
        "loss_values = history_dict_TANHmodel[\"loss\"]\n",
        "val_loss_values = history_dict_TANHmodel[\"val_loss\"]\n",
        "epochs = range(1, len(loss_values) + 1)\n",
        "plt.plot(epochs, loss_values, \"bo\", label=\"Training loss\")\n",
        "plt.plot(epochs, val_loss_values, \"b\", label=\"Validation loss\")\n",
        "plt.title(\"Training and validation loss\")\n",
        "plt.xlabel(\"Epochs\")\n",
        "plt.ylabel(\"Loss\")\n",
        "plt.legend()\n",
        "plt.show()"
      ],
      "metadata": {
        "colab": {
          "base_uri": "https://localhost:8080/",
          "height": 295
        },
        "id": "w1ePmHqWglUg",
        "outputId": "3faf2902-2daf-452b-f292-2b5922057539"
      },
      "execution_count": 88,
      "outputs": [
        {
          "output_type": "display_data",
          "data": {
            "image/png": "[encoded data removed]",
            "text/plain": [
              "<Figure size 432x288 with 1 Axes>"
            ]
          },
          "metadata": {
            "needs_background": "light"
          }
        }
      ]
    },
    {
      "cell_type": "code",
      "source": [
        "plt.clf()\n",
        "acc = history_dict_TANHmodel[\"accuracy\"]\n",
        "val_acc = history_dict_TANHmodel[\"val_accuracy\"]\n",
        "plt.plot(epochs, acc, \"bo\", label=\"Training acc\")\n",
        "plt.plot(epochs, val_acc, \"b\", label=\"Validation acc\")\n",
        "plt.title(\"Training and validation accuracy\")\n",
        "plt.xlabel(\"Epochs\")\n",
        "plt.ylabel(\"Accuracy\")\n",
        "plt.legend()\n",
        "plt.show()"
      ],
      "metadata": {
        "colab": {
          "base_uri": "https://localhost:8080/",
          "height": 295
        },
        "id": "JQoopcO_gxCH",
        "outputId": "2b10e5bd-c14c-46d7-9cd3-2f879e454bcf"
      },
      "execution_count": 89,
      "outputs": [
        {
          "output_type": "display_data",
          "data": {
            "image/png": "[encoded data removed]",
            "text/plain": [
              "<Figure size 432x288 with 1 Axes>"
            ]
          },
          "metadata": {
            "needs_background": "light"
          }
        }
      ]
    },
    {
      "cell_type": "markdown",
      "source": [
        "QUESTION 4: Tanh activation shows a pretty dramatic increase in fall of accuracy that comes with tanh activiation as supposed to relu for this data set. There are more inconsistencies and spikes in the decrease in the validation accuary of the data with tanh activation "
      ],
      "metadata": {
        "id": "0obBtvYUg9TZ"
      }
    },
    {
      "cell_type": "markdown",
      "source": [
        "**Perfroming Dropout on the model for better validation. Dropout was expressed as a leading function in the field to help with validation so that is why I chose to go with this function.**"
      ],
      "metadata": {
        "id": "wUycOXsWjS6h"
      }
    },
    {
      "cell_type": "code",
      "source": [
        "#Dropout is implemented in this part of the code. I use dropout within the first hidden layer. I choose a dropout of .8 in hopes of optimal and max accuracy at the end..\n",
        "from tensorflow import keras\n",
        "from tensorflow.keras import layers\n",
        "\n",
        "DROPOUTmodel = keras.Sequential([\n",
        "    layers.Dense(16, activation=\"relu\"),\n",
        "    layers.Dropout(.8),\n",
        "    layers.Dense(16, activation=\"relu\"),\n",
        "    layers.Dense(1, activation=\"sigmoid\")\n",
        "])"
      ],
      "metadata": {
        "id": "fqdO8CmNjqpI"
      },
      "execution_count": 101,
      "outputs": []
    },
    {
      "cell_type": "code",
      "source": [
        "DROPOUTmodel.compile(optimizer=\"rmsprop\",\n",
        "              loss=\"binary_crossentropy\",\n",
        "              metrics=[\"accuracy\"])"
      ],
      "metadata": {
        "id": "22ZnqwPHlMEO"
      },
      "execution_count": 102,
      "outputs": []
    },
    {
      "cell_type": "code",
      "source": [
        "x_val = x_train[:10000]\n",
        "partial_x_train = x_train[10000:]\n",
        "y_val = y_train[:10000]\n",
        "partial_y_train = y_train[10000:]"
      ],
      "metadata": {
        "id": "Rpx9iIRJlShm"
      },
      "execution_count": 103,
      "outputs": []
    },
    {
      "cell_type": "code",
      "source": [
        "history_DROPOUTmodel = DROPOUTmodel.fit(partial_x_train,\n",
        "                    partial_y_train,\n",
        "                    epochs=20,\n",
        "                    batch_size=512,\n",
        "                    validation_data=(x_val, y_val))"
      ],
      "metadata": {
        "colab": {
          "base_uri": "https://localhost:8080/"
        },
        "id": "XL6SrXHGlVov",
        "outputId": "7a1b4332-e9d8-479d-9c97-aa0b1afc285c"
      },
      "execution_count": 105,
      "outputs": [
        {
          "output_type": "stream",
          "name": "stdout",
          "text": [
            "Epoch 1/20\n",
            "30/30 [==============================] - 2s 49ms/step - loss: 0.6561 - accuracy: 0.5927 - val_loss: 0.5732 - val_accuracy: 0.8185\n",
            "Epoch 2/20\n",
            "30/30 [==============================] - 1s 44ms/step - loss: 0.5645 - accuracy: 0.7118 - val_loss: 0.4592 - val_accuracy: 0.8605\n",
            "Epoch 3/20\n",
            "30/30 [==============================] - 1s 44ms/step - loss: 0.4874 - accuracy: 0.7778 - val_loss: 0.3788 - val_accuracy: 0.8727\n",
            "Epoch 4/20\n",
            "30/30 [==============================] - 1s 45ms/step - loss: 0.4398 - accuracy: 0.8185 - val_loss: 0.3412 - val_accuracy: 0.8687\n",
            "Epoch 5/20\n",
            "30/30 [==============================] - 1s 44ms/step - loss: 0.3969 - accuracy: 0.8359 - val_loss: 0.3079 - val_accuracy: 0.8858\n",
            "Epoch 6/20\n",
            "30/30 [==============================] - 1s 44ms/step - loss: 0.3568 - accuracy: 0.8526 - val_loss: 0.2900 - val_accuracy: 0.8916\n",
            "Epoch 7/20\n",
            "30/30 [==============================] - 1s 45ms/step - loss: 0.3418 - accuracy: 0.8559 - val_loss: 0.2814 - val_accuracy: 0.8924\n",
            "Epoch 8/20\n",
            "30/30 [==============================] - 1s 44ms/step - loss: 0.3290 - accuracy: 0.8633 - val_loss: 0.2726 - val_accuracy: 0.8927\n",
            "Epoch 9/20\n",
            "30/30 [==============================] - 1s 44ms/step - loss: 0.3141 - accuracy: 0.8672 - val_loss: 0.2721 - val_accuracy: 0.8920\n",
            "Epoch 10/20\n",
            "30/30 [==============================] - 1s 45ms/step - loss: 0.2959 - accuracy: 0.8779 - val_loss: 0.2709 - val_accuracy: 0.8928\n",
            "Epoch 11/20\n",
            "30/30 [==============================] - 1s 44ms/step - loss: 0.2865 - accuracy: 0.8786 - val_loss: 0.2757 - val_accuracy: 0.8917\n",
            "Epoch 12/20\n",
            "30/30 [==============================] - 1s 44ms/step - loss: 0.2864 - accuracy: 0.8789 - val_loss: 0.2772 - val_accuracy: 0.8903\n",
            "Epoch 13/20\n",
            "30/30 [==============================] - 1s 44ms/step - loss: 0.2729 - accuracy: 0.8858 - val_loss: 0.2857 - val_accuracy: 0.8910\n",
            "Epoch 14/20\n",
            "30/30 [==============================] - 1s 44ms/step - loss: 0.2733 - accuracy: 0.8839 - val_loss: 0.2880 - val_accuracy: 0.8911\n",
            "Epoch 15/20\n",
            "30/30 [==============================] - 1s 46ms/step - loss: 0.2614 - accuracy: 0.8910 - val_loss: 0.2896 - val_accuracy: 0.8912\n",
            "Epoch 16/20\n",
            "30/30 [==============================] - 1s 44ms/step - loss: 0.2577 - accuracy: 0.8908 - val_loss: 0.2969 - val_accuracy: 0.8887\n",
            "Epoch 17/20\n",
            "30/30 [==============================] - 1s 45ms/step - loss: 0.2550 - accuracy: 0.8936 - val_loss: 0.2984 - val_accuracy: 0.8893\n",
            "Epoch 18/20\n",
            "30/30 [==============================] - 1s 45ms/step - loss: 0.2439 - accuracy: 0.8998 - val_loss: 0.3027 - val_accuracy: 0.8880\n",
            "Epoch 19/20\n",
            "30/30 [==============================] - 1s 44ms/step - loss: 0.2442 - accuracy: 0.9011 - val_loss: 0.3096 - val_accuracy: 0.8854\n",
            "Epoch 20/20\n",
            "30/30 [==============================] - 1s 42ms/step - loss: 0.2489 - accuracy: 0.8994 - val_loss: 0.3191 - val_accuracy: 0.8871\n"
          ]
        }
      ]
    },
    {
      "cell_type": "code",
      "source": [
        "history_dict_DROPOUTmodel = history.history\n",
        "history_dict_DROPOUTmodel.keys()"
      ],
      "metadata": {
        "colab": {
          "base_uri": "https://localhost:8080/"
        },
        "id": "OlLFUK12l88G",
        "outputId": "dce02b44-b15c-4fe8-a692-cd89917896ef"
      },
      "execution_count": 106,
      "outputs": [
        {
          "output_type": "execute_result",
          "data": {
            "text/plain": [
              "dict_keys(['loss', 'accuracy', 'val_loss', 'val_accuracy'])"
            ]
          },
          "metadata": {},
          "execution_count": 106
        }
      ]
    },
    {
      "cell_type": "code",
      "source": [
        "import matplotlib.pyplot as plt\n",
        "history_dict_DROPOUTmodel = history_DROPOUTmodel.history\n",
        "loss_values = history_dict_DROPOUTmodel[\"loss\"]\n",
        "val_loss_values = history_dict_DROPOUTmodel[\"val_loss\"]\n",
        "epochs = range(1, len(loss_values) + 1)\n",
        "plt.plot(epochs, loss_values, \"bo\", label=\"Training loss\")\n",
        "plt.plot(epochs, val_loss_values, \"b\", label=\"Validation loss\")\n",
        "plt.title(\"Training and validation loss\")\n",
        "plt.xlabel(\"Epochs\")\n",
        "plt.ylabel(\"Loss\")\n",
        "plt.legend()\n",
        "plt.show()"
      ],
      "metadata": {
        "colab": {
          "base_uri": "https://localhost:8080/",
          "height": 295
        },
        "id": "hKwxSP2VmCOH",
        "outputId": "2b3f6891-3bfd-4521-ef0d-1cd03c2ffe2b"
      },
      "execution_count": 107,
      "outputs": [
        {
          "output_type": "display_data",
          "data": {
            "image/png": "[encoded data removed]",
            "text/plain": [
              "<Figure size 432x288 with 1 Axes>"
            ]
          },
          "metadata": {
            "needs_background": "light"
          }
        }
      ]
    },
    {
      "cell_type": "code",
      "source": [
        "plt.clf()\n",
        "acc = history_dict_DROPOUTmodel[\"accuracy\"]\n",
        "val_acc = history_dict_DROPOUTmodel[\"val_accuracy\"]\n",
        "plt.plot(epochs, acc, \"bo\", label=\"Training acc\")\n",
        "plt.plot(epochs, val_acc, \"b\", label=\"Validation acc\")\n",
        "plt.title(\"Training and validation accuracy\")\n",
        "plt.xlabel(\"Epochs\")\n",
        "plt.ylabel(\"Accuracy\")\n",
        "plt.legend()\n",
        "plt.show()"
      ],
      "metadata": {
        "colab": {
          "base_uri": "https://localhost:8080/",
          "height": 295
        },
        "id": "N-tFjOYFmN7G",
        "outputId": "7d3f727a-6fdd-428c-880d-83969212eaf4"
      },
      "execution_count": 108,
      "outputs": [
        {
          "output_type": "display_data",
          "data": {
            "image/png": "[encoded data removed]",
            "text/plain": [
              "<Figure size 432x288 with 1 Axes>"
            ]
          },
          "metadata": {
            "needs_background": "light"
          }
        }
      ]
    },
    {
      "cell_type": "markdown",
      "source": [
        "QUESTION 5: Using dropout quickly clims the validation accuracy to reach that of the training accuracy whihc is very good but then we start to see some overfitting so some adjustments would need to be made in a real world scenario to find a longer standing accuracy fit without going to overfitting. A really good start ot that meawsure though. Maybe reducing the dropout rate or adding a hidden layer could draw different results. "
      ],
      "metadata": {
        "id": "9lVB4hMWmX_6"
      }
    }
  ],
  "metadata": {
    "colab": {
      "collapsed_sections": [],
      "name": "Fundzak_64061_Assignment1",
      "provenance": [],
      "toc_visible": true,
      "include_colab_link": true
    },
    "kernelspec": {
      "display_name": "Python 3",
      "language": "python",
      "name": "python3"
    },
    "language_info": {
      "codemirror_mode": {
        "name": "ipython",
        "version": 3
      },
      "file_extension": ".py",
      "mimetype": "text/x-python",
      "name": "python",
      "nbconvert_exporter": "python",
      "pygments_lexer": "ipython3",
      "version": "3.7.0"
    }
  },
  "nbformat": 4,
  "nbformat_minor": 0
}