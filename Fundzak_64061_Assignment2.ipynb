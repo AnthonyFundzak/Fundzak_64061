{
  "cells": [
    {
      "cell_type": "markdown",
      "metadata": {
        "id": "view-in-github",
        "colab_type": "text"
      },
      "source": [
        "<a href=\"https://colab.research.google.com/github/AnthonyFundzak/Fundzak_64061/blob/main/Fundzak_64061_Assignment2.ipynb\" target=\"_parent\"><img src=\"https://colab.research.google.com/assets/colab-badge.svg\" alt=\"Open In Colab\"/></a>"
      ]
    },
    {
      "cell_type": "markdown",
      "metadata": {
        "id": "iDuwNzN9EFMl"
      },
      "source": [
        "This is a companion notebook for the book [Deep Learning with Python, Second Edition](https://www.manning.com/books/deep-learning-with-python-second-edition?a_aid=keras&a_bid=76564dff). For readability, it only contains runnable code blocks and section titles, and omits everything else in the book: text paragraphs, figures, and pseudocode.\n",
        "\n",
        "**If you want to be able to follow what's going on, I recommend reading the notebook side by side with your copy of the book.**\n",
        "\n",
        "This notebook was generated for TensorFlow 2.6."
      ]
    },
    {
      "cell_type": "markdown",
      "metadata": {
        "id": "Y6TT2DKdEFMr"
      },
      "source": [
        "# Introduction to deep learning for computer vision"
      ]
    },
    {
      "cell_type": "markdown",
      "metadata": {
        "id": "HmWh0gcHEFMs"
      },
      "source": [
        "## Introduction to convnets"
      ]
    },
    {
      "cell_type": "markdown",
      "metadata": {
        "id": "_KHboJ_VEFMs"
      },
      "source": [
        "**Instantiating a small convnet**"
      ]
    },
    {
      "cell_type": "code",
      "execution_count": null,
      "metadata": {
        "id": "abjULF5REFMt"
      },
      "outputs": [],
      "source": [
        "from tensorflow import keras\n",
        "from tensorflow.keras import layers\n",
        "inputs = keras.Input(shape=(28, 28, 1))\n",
        "x = layers.Conv2D(filters=32, kernel_size=3, activation=\"relu\")(inputs)\n",
        "x = layers.MaxPooling2D(pool_size=2)(x)\n",
        "x = layers.Conv2D(filters=64, kernel_size=3, activation=\"relu\")(x)\n",
        "x = layers.MaxPooling2D(pool_size=2)(x)\n",
        "x = layers.Conv2D(filters=128, kernel_size=3, activation=\"relu\")(x)\n",
        "x = layers.Flatten()(x)\n",
        "outputs = layers.Dense(10, activation=\"softmax\")(x)\n",
        "model = keras.Model(inputs=inputs, outputs=outputs)"
      ]
    },
    {
      "cell_type": "markdown",
      "metadata": {
        "id": "y8QzoNm-EFMv"
      },
      "source": [
        "**Displaying the model's summary**"
      ]
    },
    {
      "cell_type": "code",
      "execution_count": null,
      "metadata": {
        "colab": {
          "base_uri": "https://localhost:8080/"
        },
        "id": "y2-6mzl_EFMw",
        "outputId": "121f17dd-1248-4613-e432-9b92b0703d33"
      },
      "outputs": [
        {
          "output_type": "stream",
          "name": "stdout",
          "text": [
            "Model: \"model\"\n",
            "_________________________________________________________________\n",
            " Layer (type)                Output Shape              Param #   \n",
            "=================================================================\n",
            " input_1 (InputLayer)        [(None, 28, 28, 1)]       0         \n",
            "                                                                 \n",
            " conv2d (Conv2D)             (None, 26, 26, 32)        320       \n",
            "                                                                 \n",
            " max_pooling2d (MaxPooling2D  (None, 13, 13, 32)       0         \n",
            " )                                                               \n",
            "                                                                 \n",
            " conv2d_1 (Conv2D)           (None, 11, 11, 64)        18496     \n",
            "                                                                 \n",
            " max_pooling2d_1 (MaxPooling  (None, 5, 5, 64)         0         \n",
            " 2D)                                                             \n",
            "                                                                 \n",
            " conv2d_2 (Conv2D)           (None, 3, 3, 128)         73856     \n",
            "                                                                 \n",
            " flatten (Flatten)           (None, 1152)              0         \n",
            "                                                                 \n",
            " dense (Dense)               (None, 10)                11530     \n",
            "                                                                 \n",
            "=================================================================\n",
            "Total params: 104,202\n",
            "Trainable params: 104,202\n",
            "Non-trainable params: 0\n",
            "_________________________________________________________________\n"
          ]
        }
      ],
      "source": [
        "model.summary()"
      ]
    },
    {
      "cell_type": "markdown",
      "metadata": {
        "id": "bmG64Q6-EFMw"
      },
      "source": [
        "**Training the convnet on MNIST images**"
      ]
    },
    {
      "cell_type": "code",
      "execution_count": null,
      "metadata": {
        "colab": {
          "base_uri": "https://localhost:8080/"
        },
        "id": "DHmEBOi-EFMx",
        "outputId": "a0e292bb-03e2-4682-d454-0552743c935d"
      },
      "outputs": [
        {
          "output_type": "stream",
          "name": "stdout",
          "text": [
            "Downloading data from https://storage.googleapis.com/tensorflow/tf-keras-datasets/mnist.npz\n",
            "11493376/11490434 [==============================] - 0s 0us/step\n",
            "11501568/11490434 [==============================] - 0s 0us/step\n",
            "Epoch 1/5\n",
            "938/938 [==============================] - 18s 9ms/step - loss: 0.1564 - accuracy: 0.9528\n",
            "Epoch 2/5\n",
            "938/938 [==============================] - 8s 8ms/step - loss: 0.0438 - accuracy: 0.9861\n",
            "Epoch 3/5\n",
            "938/938 [==============================] - 8s 8ms/step - loss: 0.0293 - accuracy: 0.9912\n",
            "Epoch 4/5\n",
            "938/938 [==============================] - 8s 8ms/step - loss: 0.0222 - accuracy: 0.9925\n",
            "Epoch 5/5\n",
            "938/938 [==============================] - 8s 8ms/step - loss: 0.0174 - accuracy: 0.9945\n"
          ]
        },
        {
          "output_type": "execute_result",
          "data": {
            "text/plain": [
              "<keras.callbacks.History at 0x7f641d50f810>"
            ]
          },
          "metadata": {},
          "execution_count": 6
        }
      ],
      "source": [
        "from tensorflow.keras.datasets import mnist\n",
        "\n",
        "(train_images, train_labels), (test_images, test_labels) = mnist.load_data()\n",
        "train_images = train_images.reshape((60000, 28, 28, 1))\n",
        "train_images = train_images.astype(\"float32\") / 255\n",
        "test_images = test_images.reshape((10000, 28, 28, 1))\n",
        "test_images = test_images.astype(\"float32\") / 255\n",
        "model.compile(optimizer=\"rmsprop\",\n",
        "    loss=\"sparse_categorical_crossentropy\",\n",
        "    metrics=[\"accuracy\"])\n",
        "model.fit(train_images, train_labels, epochs=5, batch_size=64)"
      ]
    },
    {
      "cell_type": "markdown",
      "metadata": {
        "id": "iB-Ted29EFMy"
      },
      "source": [
        "**Evaluating the convnet**"
      ]
    },
    {
      "cell_type": "code",
      "execution_count": null,
      "metadata": {
        "colab": {
          "base_uri": "https://localhost:8080/"
        },
        "id": "Oae3USF_EFMz",
        "outputId": "d2bfe7f8-b99b-47a9-99a8-f566665a6ae8"
      },
      "outputs": [
        {
          "output_type": "stream",
          "name": "stdout",
          "text": [
            "313/313 [==============================] - 2s 5ms/step - loss: 0.0284 - accuracy: 0.9913\n",
            "Test accuracy: 0.991\n"
          ]
        }
      ],
      "source": [
        "test_loss, test_acc = model.evaluate(test_images, test_labels)\n",
        "print(f\"Test accuracy: {test_acc:.3f}\")"
      ]
    },
    {
      "cell_type": "markdown",
      "metadata": {
        "id": "moyxCiXYEFMz"
      },
      "source": [
        "### The convolution operation"
      ]
    },
    {
      "cell_type": "markdown",
      "metadata": {
        "id": "6AYhqFRZEFM0"
      },
      "source": [
        "#### Understanding border effects and padding"
      ]
    },
    {
      "cell_type": "markdown",
      "metadata": {
        "id": "-JV26qbxEFM1"
      },
      "source": [
        "#### Understanding convolution strides"
      ]
    },
    {
      "cell_type": "markdown",
      "metadata": {
        "id": "2UqMjuW7EFM1"
      },
      "source": [
        "### The max-pooling operation"
      ]
    },
    {
      "cell_type": "markdown",
      "metadata": {
        "id": "I5NQdJgpEFM2"
      },
      "source": [
        "**An incorrectly structured convnet missing its max-pooling layers**"
      ]
    },
    {
      "cell_type": "code",
      "execution_count": null,
      "metadata": {
        "id": "YbTBcPgXEFM2"
      },
      "outputs": [],
      "source": [
        "inputs = keras.Input(shape=(28, 28, 1))\n",
        "x = layers.Conv2D(filters=32, kernel_size=3, activation=\"relu\")(inputs)\n",
        "x = layers.Conv2D(filters=64, kernel_size=3, activation=\"relu\")(x)\n",
        "x = layers.Conv2D(filters=128, kernel_size=3, activation=\"relu\")(x)\n",
        "x = layers.Flatten()(x)\n",
        "outputs = layers.Dense(10, activation=\"softmax\")(x)\n",
        "model_no_max_pool = keras.Model(inputs=inputs, outputs=outputs)"
      ]
    },
    {
      "cell_type": "code",
      "execution_count": null,
      "metadata": {
        "colab": {
          "base_uri": "https://localhost:8080/"
        },
        "id": "i1-QEGb7EFM4",
        "outputId": "51bb9d6e-4fce-4b78-b9cc-37f370f64d1a"
      },
      "outputs": [
        {
          "output_type": "stream",
          "name": "stdout",
          "text": [
            "Model: \"model_1\"\n",
            "_________________________________________________________________\n",
            " Layer (type)                Output Shape              Param #   \n",
            "=================================================================\n",
            " input_2 (InputLayer)        [(None, 28, 28, 1)]       0         \n",
            "                                                                 \n",
            " conv2d_3 (Conv2D)           (None, 26, 26, 32)        320       \n",
            "                                                                 \n",
            " conv2d_4 (Conv2D)           (None, 24, 24, 64)        18496     \n",
            "                                                                 \n",
            " conv2d_5 (Conv2D)           (None, 22, 22, 128)       73856     \n",
            "                                                                 \n",
            " flatten_1 (Flatten)         (None, 61952)             0         \n",
            "                                                                 \n",
            " dense_1 (Dense)             (None, 10)                619530    \n",
            "                                                                 \n",
            "=================================================================\n",
            "Total params: 712,202\n",
            "Trainable params: 712,202\n",
            "Non-trainable params: 0\n",
            "_________________________________________________________________\n"
          ]
        }
      ],
      "source": [
        "model_no_max_pool.summary()"
      ]
    },
    {
      "cell_type": "markdown",
      "metadata": {
        "id": "TsRKGhRAEFM4"
      },
      "source": [
        "## Training a convnet from scratch on a small dataset"
      ]
    },
    {
      "cell_type": "markdown",
      "metadata": {
        "id": "ve73iaQDEFM5"
      },
      "source": [
        "### The relevance of deep learning for small-data problems"
      ]
    },
    {
      "cell_type": "markdown",
      "metadata": {
        "id": "9vSz3c4UEFM5"
      },
      "source": [
        "### Downloading the data"
      ]
    },
    {
      "cell_type": "code",
      "execution_count": null,
      "metadata": {
        "colab": {
          "resources": {
            "http://localhost:8080/nbextensions/google.colab/files.js": {
              "data": "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",
              "ok": true,
              "headers": [
                [
                  "content-type",
                  "application/javascript"
                ]
              ],
              "status": 200,
              "status_text": ""
            }
          },
          "base_uri": "https://localhost:8080/",
          "height": 90
        },
        "id": "U5AxQyXwEFM5",
        "outputId": "50fbeef6-11a9-40d2-d037-27309431ca19"
      },
      "outputs": [
        {
          "output_type": "display_data",
          "data": {
            "text/plain": [
              "<IPython.core.display.HTML object>"
            ],
            "text/html": [
              "\n",
              "     <input type=\"file\" id=\"files-c722ae8d-b71f-4f39-90c5-e4bf957e5c9d\" name=\"files[]\" multiple disabled\n",
              "        style=\"border:none\" />\n",
              "     <output id=\"result-c722ae8d-b71f-4f39-90c5-e4bf957e5c9d\">\n",
              "      Upload widget is only available when the cell has been executed in the\n",
              "      current browser session. Please rerun this cell to enable.\n",
              "      </output>\n",
              "      <script src=\"/nbextensions/google.colab/files.js\"></script> "
            ]
          },
          "metadata": {}
        },
        {
          "output_type": "stream",
          "name": "stdout",
          "text": [
            "Saving kaggle.json to kaggle.json\n"
          ]
        },
        {
          "output_type": "execute_result",
          "data": {
            "text/plain": [
              "{'kaggle.json': b'{\"username\":\"antfundz\",\"key\":\"82539720cc9a706d669d41b1d96fb806\"}'}"
            ]
          },
          "metadata": {},
          "execution_count": 10
        }
      ],
      "source": [
        "from google.colab import files\n",
        "files.upload()"
      ]
    },
    {
      "cell_type": "code",
      "execution_count": null,
      "metadata": {
        "id": "ply8GlzfEFM6"
      },
      "outputs": [],
      "source": [
        "!mkdir ~/.kaggle\n",
        "!cp kaggle.json ~/.kaggle/\n",
        "!chmod 600 ~/.kaggle/kaggle.json"
      ]
    },
    {
      "cell_type": "code",
      "execution_count": null,
      "metadata": {
        "colab": {
          "base_uri": "https://localhost:8080/"
        },
        "id": "fQZEmnL5EFM7",
        "outputId": "85d688db-54ba-4240-ea1b-b3466d547a60"
      },
      "outputs": [
        {
          "output_type": "stream",
          "name": "stdout",
          "text": [
            "Downloading dogs-vs-cats.zip to /content\n",
            " 98% 794M/812M [00:04<00:00, 178MB/s]\n",
            "100% 812M/812M [00:04<00:00, 183MB/s]\n"
          ]
        }
      ],
      "source": [
        "!kaggle competitions download -c dogs-vs-cats"
      ]
    },
    {
      "cell_type": "code",
      "source": [
        "!unzip -qq dogs-vs-cats.zip"
      ],
      "metadata": {
        "id": "HZn2MPUyFDyo"
      },
      "execution_count": null,
      "outputs": []
    },
    {
      "cell_type": "code",
      "source": [
        "!unzip -qq test1.zip"
      ],
      "metadata": {
        "id": "xDsigZ_1FRAE"
      },
      "execution_count": null,
      "outputs": []
    },
    {
      "cell_type": "code",
      "execution_count": null,
      "metadata": {
        "id": "sJhQPdXqEFM7"
      },
      "outputs": [],
      "source": [
        "!unzip -qq train.zip"
      ]
    },
    {
      "cell_type": "markdown",
      "metadata": {
        "id": "xB6qt_sAEFM8"
      },
      "source": [
        "**Copying images to training, validation, and test directories**"
      ]
    },
    {
      "cell_type": "markdown",
      "source": [
        "## ***QUESTION 1***\n",
        " \n",
        "Start initially with a training sample of 1000, a validation \n",
        "sample of 500, and a test sample of 500 (like in the text). Use any technique to reduce \n",
        "overfitting and improve performance in developing a network that you train from scratch. What \n",
        "performance did you achieve?  \n",
        "Below, the end_index is changed from 2500 to 2000 to reflect the 500 sample change."
      ],
      "metadata": {
        "id": "vWk_w_RQGIod"
      }
    },
    {
      "cell_type": "code",
      "execution_count": null,
      "metadata": {
        "id": "XrXawAzTEFM8"
      },
      "outputs": [],
      "source": [
        "import os, shutil, pathlib\n",
        "\n",
        "original_dir = pathlib.Path(\"train\")\n",
        "new_base_dir = pathlib.Path(\"dogs-vs-cats-small\")\n",
        "\n",
        "def make_subset(subset_name, start_index, end_index):\n",
        "    for category in (\"cat\", \"dog\"):\n",
        "        dir = new_base_dir / subset_name / category\n",
        "        os.makedirs(dir)\n",
        "        fnames = [f\"{category}.{i}.jpg\" for i in range(start_index, end_index)]\n",
        "        for fname in fnames:\n",
        "            shutil.copyfile(src=original_dir / fname,\n",
        "                            dst=dir / fname)\n",
        "\n",
        "make_subset(\"train\", start_index=0, end_index=1000)\n",
        "make_subset(\"validation\", start_index=1000, end_index=1500)\n",
        "make_subset(\"test1\", start_index=1500, end_index=2000)"
      ]
    },
    {
      "cell_type": "markdown",
      "metadata": {
        "id": "RaqiQX8IEFM9"
      },
      "source": [
        "### Building the model"
      ]
    },
    {
      "cell_type": "markdown",
      "metadata": {
        "id": "01ssfyuvEFM-"
      },
      "source": [
        "**Instantiating a small convnet for dogs vs. cats classification**"
      ]
    },
    {
      "cell_type": "code",
      "execution_count": null,
      "metadata": {
        "id": "WrFnQrxAEFM-"
      },
      "outputs": [],
      "source": [
        "from tensorflow import keras\n",
        "from tensorflow.keras import layers\n",
        "\n",
        "inputs = keras.Input(shape=(180, 180, 3))\n",
        "x = layers.Rescaling(1./255)(inputs)\n",
        "x = layers.Conv2D(filters=32, kernel_size=3, activation=\"relu\")(x)\n",
        "x = layers.MaxPooling2D(pool_size=2)(x)\n",
        "x = layers.Conv2D(filters=64, kernel_size=3, activation=\"relu\")(x)\n",
        "x = layers.MaxPooling2D(pool_size=2)(x)\n",
        "x = layers.Conv2D(filters=128, kernel_size=3, activation=\"relu\")(x)\n",
        "x = layers.MaxPooling2D(pool_size=2)(x)\n",
        "x = layers.Conv2D(filters=256, kernel_size=3, activation=\"relu\")(x)\n",
        "x = layers.MaxPooling2D(pool_size=2)(x)\n",
        "x = layers.Conv2D(filters=256, kernel_size=3, activation=\"relu\")(x)\n",
        "x = layers.Flatten()(x)\n",
        "outputs = layers.Dense(1, activation=\"sigmoid\")(x)\n",
        "model = keras.Model(inputs=inputs, outputs=outputs)"
      ]
    },
    {
      "cell_type": "markdown",
      "source": [
        "## Some keys performance notes from the above code: use activation relu when confoluting layers in 2D as mulitple layers or to follow the activations. When its time to model out the data, we need to flatten layers to a 1 dimensional, workable input layer and change the activiation to sigmond for final output. "
      ],
      "metadata": {
        "id": "KcuJGNMIPD5H"
      }
    },
    {
      "cell_type": "code",
      "execution_count": null,
      "metadata": {
        "colab": {
          "base_uri": "https://localhost:8080/"
        },
        "id": "l2pU1qulEFM_",
        "outputId": "5d295f44-35f5-4877-875b-d3ed10de64cb"
      },
      "outputs": [
        {
          "output_type": "stream",
          "name": "stdout",
          "text": [
            "Model: \"model_2\"\n",
            "_________________________________________________________________\n",
            " Layer (type)                Output Shape              Param #   \n",
            "=================================================================\n",
            " input_3 (InputLayer)        [(None, 180, 180, 3)]     0         \n",
            "                                                                 \n",
            " rescaling (Rescaling)       (None, 180, 180, 3)       0         \n",
            "                                                                 \n",
            " conv2d_6 (Conv2D)           (None, 178, 178, 32)      896       \n",
            "                                                                 \n",
            " max_pooling2d_2 (MaxPooling  (None, 89, 89, 32)       0         \n",
            " 2D)                                                             \n",
            "                                                                 \n",
            " conv2d_7 (Conv2D)           (None, 87, 87, 64)        18496     \n",
            "                                                                 \n",
            " max_pooling2d_3 (MaxPooling  (None, 43, 43, 64)       0         \n",
            " 2D)                                                             \n",
            "                                                                 \n",
            " conv2d_8 (Conv2D)           (None, 41, 41, 128)       73856     \n",
            "                                                                 \n",
            " max_pooling2d_4 (MaxPooling  (None, 20, 20, 128)      0         \n",
            " 2D)                                                             \n",
            "                                                                 \n",
            " conv2d_9 (Conv2D)           (None, 18, 18, 256)       295168    \n",
            "                                                                 \n",
            " max_pooling2d_5 (MaxPooling  (None, 9, 9, 256)        0         \n",
            " 2D)                                                             \n",
            "                                                                 \n",
            " conv2d_10 (Conv2D)          (None, 7, 7, 256)         590080    \n",
            "                                                                 \n",
            " flatten_2 (Flatten)         (None, 12544)             0         \n",
            "                                                                 \n",
            " dense_2 (Dense)             (None, 1)                 12545     \n",
            "                                                                 \n",
            "=================================================================\n",
            "Total params: 991,041\n",
            "Trainable params: 991,041\n",
            "Non-trainable params: 0\n",
            "_________________________________________________________________\n"
          ]
        }
      ],
      "source": [
        "model.summary()"
      ]
    },
    {
      "cell_type": "markdown",
      "metadata": {
        "id": "SeCHPoltEFM_"
      },
      "source": [
        "**Configuring the model for training**"
      ]
    },
    {
      "cell_type": "code",
      "execution_count": null,
      "metadata": {
        "id": "UhvJrQYEEFNA"
      },
      "outputs": [],
      "source": [
        "model.compile(loss=\"binary_crossentropy\",\n",
        "              optimizer=\"rmsprop\",\n",
        "              metrics=[\"accuracy\"])"
      ]
    },
    {
      "cell_type": "markdown",
      "metadata": {
        "id": "Ni718fOiEFNC"
      },
      "source": [
        "### Data preprocessing"
      ]
    },
    {
      "cell_type": "markdown",
      "metadata": {
        "id": "df7AO6frEFND"
      },
      "source": [
        "**Using `image_dataset_from_directory` to read images**"
      ]
    },
    {
      "cell_type": "code",
      "execution_count": null,
      "metadata": {
        "colab": {
          "base_uri": "https://localhost:8080/"
        },
        "id": "rP5ZyZwMEFNE",
        "outputId": "5fa8add8-6e32-40fe-e4ed-6a03bf052da7"
      },
      "outputs": [
        {
          "output_type": "stream",
          "name": "stdout",
          "text": [
            "Found 2000 files belonging to 2 classes.\n",
            "Found 1000 files belonging to 2 classes.\n",
            "Found 1000 files belonging to 2 classes.\n"
          ]
        }
      ],
      "source": [
        "from tensorflow.keras.utils import image_dataset_from_directory\n",
        "\n",
        "train_dataset = image_dataset_from_directory(\n",
        "    new_base_dir / \"train\",\n",
        "    image_size=(180, 180),\n",
        "    batch_size=32)\n",
        "validation_dataset = image_dataset_from_directory(\n",
        "    new_base_dir / \"validation\",\n",
        "    image_size=(180, 180),\n",
        "    batch_size=32)\n",
        "test_dataset = image_dataset_from_directory(\n",
        "    new_base_dir / \"test1\",\n",
        "    image_size=(180, 180),\n",
        "    batch_size=32)"
      ]
    },
    {
      "cell_type": "markdown",
      "source": [
        "## Belonging to two classes is what we want to see. These two classes are the cats and the dogs. Iage size to 180, 180 makes sure all images are reshaped to the same size for even reuslts on what the filters are gathering. "
      ],
      "metadata": {
        "id": "XFGWhvZ0QUqq"
      }
    },
    {
      "cell_type": "code",
      "execution_count": null,
      "metadata": {
        "id": "y2Gxy4mcEFNF"
      },
      "outputs": [],
      "source": [
        "import numpy as np\n",
        "import tensorflow as tf\n",
        "random_numbers = np.random.normal(size=(1000, 16))\n",
        "dataset = tf.data.Dataset.from_tensor_slices(random_numbers)"
      ]
    },
    {
      "cell_type": "code",
      "execution_count": null,
      "metadata": {
        "colab": {
          "base_uri": "https://localhost:8080/"
        },
        "id": "7_rJM2AlEFNG",
        "outputId": "e939a481-e771-4413-c34c-4d7fc9c53894"
      },
      "outputs": [
        {
          "output_type": "stream",
          "name": "stdout",
          "text": [
            "(16,)\n",
            "(16,)\n",
            "(16,)\n"
          ]
        }
      ],
      "source": [
        "for i, element in enumerate(dataset):\n",
        "    print(element.shape)\n",
        "    if i >= 2:\n",
        "        break"
      ]
    },
    {
      "cell_type": "code",
      "execution_count": null,
      "metadata": {
        "colab": {
          "base_uri": "https://localhost:8080/"
        },
        "id": "EUm9WzbhEFNG",
        "outputId": "feb6b226-39a1-4a8a-8415-a442876d1915"
      },
      "outputs": [
        {
          "output_type": "stream",
          "name": "stdout",
          "text": [
            "(32, 16)\n",
            "(32, 16)\n",
            "(32, 16)\n"
          ]
        }
      ],
      "source": [
        "batched_dataset = dataset.batch(32)\n",
        "for i, element in enumerate(batched_dataset):\n",
        "    print(element.shape)\n",
        "    if i >= 2:\n",
        "        break"
      ]
    },
    {
      "cell_type": "code",
      "execution_count": null,
      "metadata": {
        "colab": {
          "base_uri": "https://localhost:8080/"
        },
        "id": "kIRDV7FPEFNH",
        "outputId": "f709af86-7678-419c-8898-83ab3cd491ad"
      },
      "outputs": [
        {
          "output_type": "stream",
          "name": "stdout",
          "text": [
            "(4, 4)\n",
            "(4, 4)\n",
            "(4, 4)\n"
          ]
        }
      ],
      "source": [
        "reshaped_dataset = dataset.map(lambda x: tf.reshape(x, (4, 4)))\n",
        "for i, element in enumerate(reshaped_dataset):\n",
        "    print(element.shape)\n",
        "    if i >= 2:\n",
        "        break"
      ]
    },
    {
      "cell_type": "markdown",
      "source": [
        "##By adding a lamba here, we are helping to prevent overfitting of the data in the final test accuracy score."
      ],
      "metadata": {
        "id": "yy_yUhUZQjmt"
      }
    },
    {
      "cell_type": "markdown",
      "metadata": {
        "id": "kja_gOInEFNI"
      },
      "source": [
        "**Displaying the shapes of the data and labels yielded by the `Dataset`**"
      ]
    },
    {
      "cell_type": "code",
      "execution_count": null,
      "metadata": {
        "colab": {
          "base_uri": "https://localhost:8080/"
        },
        "id": "egWVnbgKEFNI",
        "outputId": "96573e89-f416-40cd-8884-d66225e6698b"
      },
      "outputs": [
        {
          "output_type": "stream",
          "name": "stdout",
          "text": [
            "data batch shape: (32, 180, 180, 3)\n",
            "labels batch shape: (32,)\n"
          ]
        }
      ],
      "source": [
        "for data_batch, labels_batch in train_dataset:\n",
        "    print(\"data batch shape:\", data_batch.shape)\n",
        "    print(\"labels batch shape:\", labels_batch.shape)\n",
        "    break"
      ]
    },
    {
      "cell_type": "markdown",
      "metadata": {
        "id": "tXAEdUd_EFNJ"
      },
      "source": [
        "**Fitting the model using a `Dataset`**"
      ]
    },
    {
      "cell_type": "code",
      "execution_count": null,
      "metadata": {
        "colab": {
          "base_uri": "https://localhost:8080/"
        },
        "id": "1w-VyZhKEFNK",
        "outputId": "e642e1e7-7ad9-4f1c-9479-6bdbbb404fe5"
      },
      "outputs": [
        {
          "output_type": "stream",
          "name": "stdout",
          "text": [
            "Epoch 1/30\n",
            "63/63 [==============================] - 11s 126ms/step - loss: 0.7428 - accuracy: 0.5080 - val_loss: 0.6914 - val_accuracy: 0.5010\n",
            "Epoch 2/30\n",
            "63/63 [==============================] - 7s 112ms/step - loss: 0.7118 - accuracy: 0.5395 - val_loss: 0.6912 - val_accuracy: 0.5040\n",
            "Epoch 3/30\n",
            "63/63 [==============================] - 8s 114ms/step - loss: 0.6922 - accuracy: 0.5785 - val_loss: 0.6615 - val_accuracy: 0.6080\n",
            "Epoch 4/30\n",
            "63/63 [==============================] - 7s 114ms/step - loss: 0.6729 - accuracy: 0.6380 - val_loss: 0.6120 - val_accuracy: 0.6710\n",
            "Epoch 5/30\n",
            "63/63 [==============================] - 7s 113ms/step - loss: 0.5880 - accuracy: 0.7000 - val_loss: 0.6324 - val_accuracy: 0.6440\n",
            "Epoch 6/30\n",
            "63/63 [==============================] - 7s 111ms/step - loss: 0.5376 - accuracy: 0.7475 - val_loss: 0.6376 - val_accuracy: 0.6510\n",
            "Epoch 7/30\n",
            "63/63 [==============================] - 7s 112ms/step - loss: 0.5060 - accuracy: 0.7610 - val_loss: 0.6813 - val_accuracy: 0.6660\n",
            "Epoch 8/30\n",
            "63/63 [==============================] - 7s 112ms/step - loss: 0.4550 - accuracy: 0.7915 - val_loss: 0.6401 - val_accuracy: 0.7220\n",
            "Epoch 9/30\n",
            "63/63 [==============================] - 7s 114ms/step - loss: 0.4136 - accuracy: 0.8115 - val_loss: 0.6543 - val_accuracy: 0.6850\n",
            "Epoch 10/30\n",
            "63/63 [==============================] - 7s 112ms/step - loss: 0.3424 - accuracy: 0.8500 - val_loss: 0.6223 - val_accuracy: 0.7180\n",
            "Epoch 11/30\n",
            "63/63 [==============================] - 7s 112ms/step - loss: 0.2975 - accuracy: 0.8690 - val_loss: 0.7219 - val_accuracy: 0.7250\n",
            "Epoch 12/30\n",
            "63/63 [==============================] - 7s 112ms/step - loss: 0.2412 - accuracy: 0.9065 - val_loss: 0.8982 - val_accuracy: 0.7070\n",
            "Epoch 13/30\n",
            "63/63 [==============================] - 7s 112ms/step - loss: 0.1909 - accuracy: 0.9205 - val_loss: 0.9367 - val_accuracy: 0.7140\n",
            "Epoch 14/30\n",
            "63/63 [==============================] - 7s 112ms/step - loss: 0.1549 - accuracy: 0.9475 - val_loss: 0.9228 - val_accuracy: 0.7060\n",
            "Epoch 15/30\n",
            "63/63 [==============================] - 7s 113ms/step - loss: 0.1253 - accuracy: 0.9510 - val_loss: 1.1480 - val_accuracy: 0.7190\n",
            "Epoch 16/30\n",
            "63/63 [==============================] - 7s 112ms/step - loss: 0.1073 - accuracy: 0.9635 - val_loss: 1.0186 - val_accuracy: 0.7390\n",
            "Epoch 17/30\n",
            "63/63 [==============================] - 7s 111ms/step - loss: 0.1059 - accuracy: 0.9660 - val_loss: 1.2488 - val_accuracy: 0.7110\n",
            "Epoch 18/30\n",
            "63/63 [==============================] - 7s 111ms/step - loss: 0.0719 - accuracy: 0.9795 - val_loss: 1.5591 - val_accuracy: 0.7350\n",
            "Epoch 19/30\n",
            "63/63 [==============================] - 7s 111ms/step - loss: 0.0789 - accuracy: 0.9720 - val_loss: 2.1121 - val_accuracy: 0.6830\n",
            "Epoch 20/30\n",
            "63/63 [==============================] - 7s 114ms/step - loss: 0.0597 - accuracy: 0.9780 - val_loss: 1.9412 - val_accuracy: 0.7130\n",
            "Epoch 21/30\n",
            "63/63 [==============================] - 7s 111ms/step - loss: 0.0740 - accuracy: 0.9735 - val_loss: 2.5967 - val_accuracy: 0.6740\n",
            "Epoch 22/30\n",
            "63/63 [==============================] - 7s 112ms/step - loss: 0.0639 - accuracy: 0.9805 - val_loss: 1.8685 - val_accuracy: 0.7090\n",
            "Epoch 23/30\n",
            "63/63 [==============================] - 7s 113ms/step - loss: 0.0531 - accuracy: 0.9845 - val_loss: 1.6439 - val_accuracy: 0.7240\n",
            "Epoch 24/30\n",
            "63/63 [==============================] - 7s 112ms/step - loss: 0.0460 - accuracy: 0.9825 - val_loss: 2.0112 - val_accuracy: 0.7190\n",
            "Epoch 25/30\n",
            "63/63 [==============================] - 8s 117ms/step - loss: 0.0459 - accuracy: 0.9855 - val_loss: 2.5302 - val_accuracy: 0.6910\n",
            "Epoch 26/30\n",
            "63/63 [==============================] - 7s 113ms/step - loss: 0.0536 - accuracy: 0.9890 - val_loss: 2.2020 - val_accuracy: 0.7160\n",
            "Epoch 27/30\n",
            "63/63 [==============================] - 7s 113ms/step - loss: 0.0372 - accuracy: 0.9855 - val_loss: 1.8887 - val_accuracy: 0.7350\n",
            "Epoch 28/30\n",
            "63/63 [==============================] - 7s 112ms/step - loss: 0.0531 - accuracy: 0.9845 - val_loss: 1.8906 - val_accuracy: 0.7280\n",
            "Epoch 29/30\n",
            "63/63 [==============================] - 7s 113ms/step - loss: 0.0336 - accuracy: 0.9865 - val_loss: 2.2529 - val_accuracy: 0.7320\n",
            "Epoch 30/30\n",
            "63/63 [==============================] - 7s 112ms/step - loss: 0.0415 - accuracy: 0.9880 - val_loss: 2.3373 - val_accuracy: 0.7080\n"
          ]
        }
      ],
      "source": [
        "callbacks = [\n",
        "    keras.callbacks.ModelCheckpoint(\n",
        "        filepath=\"convnet_from_scratch.keras\",\n",
        "        save_best_only=True,\n",
        "        monitor=\"val_loss\")\n",
        "]\n",
        "history = model.fit(\n",
        "    train_dataset,\n",
        "    epochs=30,\n",
        "    validation_data=validation_dataset,\n",
        "    callbacks=callbacks)"
      ]
    },
    {
      "cell_type": "markdown",
      "metadata": {
        "id": "8HHvtAWnEFNK"
      },
      "source": [
        "**Displaying curves of loss and accuracy during training**"
      ]
    },
    {
      "cell_type": "code",
      "execution_count": null,
      "metadata": {
        "colab": {
          "base_uri": "https://localhost:8080/",
          "height": 545
        },
        "id": "maGN8MwKEFNL",
        "outputId": "a840dee7-ee17-4914-f66c-cffe27ffa7f5"
      },
      "outputs": [
        {
          "output_type": "display_data",
          "data": {
            "text/plain": [
              "<Figure size 432x288 with 1 Axes>"
            ],
            "image/png": "[encoded data removed]"
          },
          "metadata": {
            "needs_background": "light"
          }
        },
        {
          "output_type": "display_data",
          "data": {
            "text/plain": [
              "<Figure size 432x288 with 1 Axes>"
            ],
            "image/png": "[encoded data removed]"
          },
          "metadata": {
            "needs_background": "light"
          }
        }
      ],
      "source": [
        "import matplotlib.pyplot as plt\n",
        "accuracy = history.history[\"accuracy\"]\n",
        "val_accuracy = history.history[\"val_accuracy\"]\n",
        "loss = history.history[\"loss\"]\n",
        "val_loss = history.history[\"val_loss\"]\n",
        "epochs = range(1, len(accuracy) + 1)\n",
        "plt.plot(epochs, accuracy, \"bo\", label=\"Training accuracy\")\n",
        "plt.plot(epochs, val_accuracy, \"b\", label=\"Validation accuracy\")\n",
        "plt.title(\"Training and validation accuracy\")\n",
        "plt.legend()\n",
        "plt.figure()\n",
        "plt.plot(epochs, loss, \"bo\", label=\"Training loss\")\n",
        "plt.plot(epochs, val_loss, \"b\", label=\"Validation loss\")\n",
        "plt.title(\"Training and validation loss\")\n",
        "plt.legend()\n",
        "plt.show()"
      ]
    },
    {
      "cell_type": "markdown",
      "metadata": {
        "id": "CuL-KOxlEFNL"
      },
      "source": [
        "**Evaluating the model on the test set**"
      ]
    },
    {
      "cell_type": "code",
      "execution_count": null,
      "metadata": {
        "colab": {
          "base_uri": "https://localhost:8080/"
        },
        "id": "o5mgt87lEFNL",
        "outputId": "92ce58bd-f316-4b11-a9ba-f840ffa756a5"
      },
      "outputs": [
        {
          "output_type": "stream",
          "name": "stdout",
          "text": [
            "32/32 [==============================] - 2s 50ms/step - loss: 0.6300 - accuracy: 0.6270\n",
            "Test accuracy: 0.627\n"
          ]
        }
      ],
      "source": [
        "test_model = keras.models.load_model(\"convnet_from_scratch.keras\")\n",
        "test_loss, test_acc = test_model.evaluate(test_dataset)\n",
        "print(f\"Test accuracy: {test_acc:.3f}\")"
      ]
    },
    {
      "cell_type": "markdown",
      "source": [
        "## Question 1 Solved: Here we can see a test accuracy score of .627. Ideally, this is not a great score, but it is a great starting place to begin. It tells you with the score not being so low that the code is close and can be imporoved and it does not need to be washed for something new at this current time. "
      ],
      "metadata": {
        "id": "LL39Chu2SjTo"
      }
    },
    {
      "cell_type": "markdown",
      "metadata": {
        "id": "qF_OfwbLEFNM"
      },
      "source": [
        "### Using data augmentation"
      ]
    },
    {
      "cell_type": "markdown",
      "source": [
        "## Question 2: Increase your training sample size. You may pick any amount. Keep the validation and test samples the same as above. Optimize your network (again training from scratch). What performance did you achieve? "
      ],
      "metadata": {
        "id": "hpzJjeM_TEiF"
      }
    },
    {
      "cell_type": "code",
      "source": [
        "import os, shutil, pathlib\n",
        "\n",
        "original_dir = pathlib.Path(\"train\")\n",
        "new_base_dir = pathlib.Path(\"dogs-vs-cats-small-QuestionTwo\")\n",
        "\n",
        "def make_subset(subset_name, start_index, end_index):\n",
        "    for category in (\"cat\", \"dog\"):\n",
        "        dir = new_base_dir / subset_name / category\n",
        "        os.makedirs(dir)\n",
        "        fnames = [f\"{category}.{i}.jpg\" for i in range(start_index, end_index)]\n",
        "        for fname in fnames:\n",
        "            shutil.copyfile(src=original_dir / fname,\n",
        "                            dst=dir / fname)\n",
        "\n",
        "make_subset(\"train\", start_index=0, end_index=2000)\n",
        "make_subset(\"validation\", start_index=2000, end_index=2500)\n",
        "make_subset(\"test1\", start_index=2500, end_index=3000)"
      ],
      "metadata": {
        "id": "6be__COsTm8t"
      },
      "execution_count": null,
      "outputs": []
    },
    {
      "cell_type": "code",
      "source": [
        "data_augmentation = keras.Sequential(\n",
        "    [\n",
        "        layers.RandomFlip(\"horizontal\"),\n",
        "        layers.RandomRotation(0.1),\n",
        "        layers.RandomZoom(0.2),\n",
        "    ]\n",
        ")"
      ],
      "metadata": {
        "id": "WQnzH6SFjSUs"
      },
      "execution_count": null,
      "outputs": []
    },
    {
      "cell_type": "code",
      "execution_count": null,
      "metadata": {
        "id": "BIqyup2wEFNO"
      },
      "outputs": [],
      "source": [
        "from tensorflow import keras\n",
        "from tensorflow.keras import layers\n",
        "\n",
        "inputs = keras.Input(shape=(180, 180, 3))\n",
        "x = data_augmentation(inputs)\n",
        "x = layers.Rescaling(1./255)(x)\n",
        "x = layers.Conv2D(filters=32, kernel_size=3, activation=\"relu\")(x)\n",
        "x = layers.MaxPooling2D(pool_size=2)(x)\n",
        "x = layers.Conv2D(filters=64, kernel_size=3, activation=\"relu\")(x)\n",
        "x = layers.MaxPooling2D(pool_size=2)(x)\n",
        "x = layers.Conv2D(filters=128, kernel_size=3, activation=\"relu\")(x)\n",
        "x = layers.MaxPooling2D(pool_size=2)(x)\n",
        "x = layers.Conv2D(filters=256, kernel_size=3, activation=\"relu\")(x)\n",
        "x = layers.MaxPooling2D(pool_size=2)(x)\n",
        "x = layers.Conv2D(filters=256, kernel_size=3, activation=\"relu\")(x)\n",
        "x = layers.Flatten()(x)\n",
        "x = layers.Dropout(0.5)(x)\n",
        "outputs = layers.Dense(1, activation=\"sigmoid\")(x)\n",
        "model = keras.Model(inputs=inputs, outputs=outputs)\n",
        "\n",
        "model.compile(loss=\"binary_crossentropy\",\n",
        "              optimizer=\"rmsprop\",\n",
        "              metrics=[\"accuracy\"])"
      ]
    },
    {
      "cell_type": "code",
      "source": [
        "model.compile(loss=\"binary_crossentropy\",\n",
        "              optimizer=\"rmsprop\",\n",
        "              metrics=[\"accuracy\"])"
      ],
      "metadata": {
        "id": "zozdeP7PUzi5"
      },
      "execution_count": null,
      "outputs": []
    },
    {
      "cell_type": "code",
      "source": [
        "from tensorflow.keras.utils import image_dataset_from_directory\n",
        "\n",
        "train_dataset = image_dataset_from_directory(\n",
        "    new_base_dir / \"train\",\n",
        "    image_size=(180, 180),\n",
        "    batch_size=32)\n",
        "validation_dataset = image_dataset_from_directory(\n",
        "    new_base_dir / \"validation\",\n",
        "    image_size=(180, 180),\n",
        "    batch_size=32)\n",
        "test_dataset = image_dataset_from_directory(\n",
        "    new_base_dir / \"test1\",\n",
        "    image_size=(180, 180),\n",
        "    batch_size=32)"
      ],
      "metadata": {
        "id": "ccagNAcFVZtV",
        "outputId": "c547c6dd-6d28-4dd5-8633-d4a36e33cff5",
        "colab": {
          "base_uri": "https://localhost:8080/"
        }
      },
      "execution_count": null,
      "outputs": [
        {
          "output_type": "stream",
          "name": "stdout",
          "text": [
            "Found 6000 files belonging to 2 classes.\n",
            "Found 1000 files belonging to 2 classes.\n",
            "Found 1000 files belonging to 2 classes.\n"
          ]
        }
      ]
    },
    {
      "cell_type": "code",
      "source": [
        "import numpy as np\n",
        "import tensorflow as tf\n",
        "random_numbers = np.random.normal(size=(1000, 16))\n",
        "dataset = tf.data.Dataset.from_tensor_slices(random_numbers)"
      ],
      "metadata": {
        "id": "r7t1NWfvVozW"
      },
      "execution_count": null,
      "outputs": []
    },
    {
      "cell_type": "code",
      "source": [
        "for i, element in enumerate(dataset):\n",
        "    print(element.shape)\n",
        "    if i >= 2:\n",
        "      break"
      ],
      "metadata": {
        "id": "emnaLN2jVtNY",
        "outputId": "28582c1b-6d6d-4777-aa50-0059c13ff5dd",
        "colab": {
          "base_uri": "https://localhost:8080/"
        }
      },
      "execution_count": null,
      "outputs": [
        {
          "output_type": "stream",
          "name": "stdout",
          "text": [
            "(16,)\n",
            "(16,)\n",
            "(16,)\n"
          ]
        }
      ]
    },
    {
      "cell_type": "code",
      "source": [
        "\n",
        "batched_dataset = dataset.batch(32)\n",
        "for i, element in enumerate(batched_dataset):\n",
        "    print(element.shape)\n",
        "    if i >= 2:\n",
        "        break"
      ],
      "metadata": {
        "id": "AVsrNyFNVzs_",
        "outputId": "a5ae874d-2d15-4abd-d4bf-96c983388367",
        "colab": {
          "base_uri": "https://localhost:8080/"
        }
      },
      "execution_count": null,
      "outputs": [
        {
          "output_type": "stream",
          "name": "stdout",
          "text": [
            "(32, 16)\n",
            "(32, 16)\n",
            "(32, 16)\n"
          ]
        }
      ]
    },
    {
      "cell_type": "code",
      "source": [
        "reshaped_dataset = dataset.map(lambda x: tf.reshape(x, (4, 4)))\n",
        "for i, element in enumerate(reshaped_dataset):\n",
        "    print(element.shape)\n",
        "    if i >= 2:\n",
        "        break"
      ],
      "metadata": {
        "id": "NRJtkywHV-TI",
        "outputId": "ed7daee5-c5d6-484f-8690-0c1512a2c0c3",
        "colab": {
          "base_uri": "https://localhost:8080/"
        }
      },
      "execution_count": null,
      "outputs": [
        {
          "output_type": "stream",
          "name": "stdout",
          "text": [
            "(4, 4)\n",
            "(4, 4)\n",
            "(4, 4)\n"
          ]
        }
      ]
    },
    {
      "cell_type": "code",
      "source": [
        "for data_batch, labels_batch in train_dataset:\n",
        "    print(\"data batch shape:\", data_batch.shape)\n",
        "    print(\"labels batch shape:\", labels_batch.shape)\n",
        "    break"
      ],
      "metadata": {
        "id": "fG0DXzq4WB9Y",
        "outputId": "8a9a0d06-0cc8-4c27-86cd-ba2692def900",
        "colab": {
          "base_uri": "https://localhost:8080/"
        }
      },
      "execution_count": null,
      "outputs": [
        {
          "output_type": "stream",
          "name": "stdout",
          "text": [
            "data batch shape: (32, 180, 180, 3)\n",
            "labels batch shape: (32,)\n"
          ]
        }
      ]
    },
    {
      "cell_type": "code",
      "source": [
        "from keras.callbacks import ModelCheckpoint, EarlyStopping\n",
        "callbacks = [\n",
        "    keras.callbacks.ModelCheckpoint(\n",
        "        filepath=\"convnet_from_scratch.keras\",\n",
        "        save_best_only=True,\n",
        "        monitor=\"val_loss\")\n",
        "]\n",
        "history = model.fit(\n",
        "    train_dataset,\n",
        "    epochs=30,\n",
        "    validation_data=validation_dataset,\n",
        "    callbacks=callbacks)"
      ],
      "metadata": {
        "id": "2XyKun-BWRA3",
        "outputId": "c10f5755-3656-4bfe-93d2-c77f0036181c",
        "colab": {
          "base_uri": "https://localhost:8080/"
        }
      },
      "execution_count": null,
      "outputs": [
        {
          "output_type": "stream",
          "name": "stdout",
          "text": [
            "Epoch 1/30\n",
            "125/125 [==============================] - 16s 109ms/step - loss: 0.7183 - accuracy: 0.5335 - val_loss: 0.6708 - val_accuracy: 0.6500\n",
            "Epoch 2/30\n",
            "125/125 [==============================] - 14s 106ms/step - loss: 0.6790 - accuracy: 0.5815 - val_loss: 0.6151 - val_accuracy: 0.6460\n",
            "Epoch 3/30\n",
            "125/125 [==============================] - 14s 108ms/step - loss: 0.6416 - accuracy: 0.6360 - val_loss: 0.6490 - val_accuracy: 0.6760\n",
            "Epoch 4/30\n",
            "125/125 [==============================] - 13s 105ms/step - loss: 0.6260 - accuracy: 0.6547 - val_loss: 0.5704 - val_accuracy: 0.7170\n",
            "Epoch 5/30\n",
            "125/125 [==============================] - 14s 106ms/step - loss: 0.5993 - accuracy: 0.6862 - val_loss: 0.5562 - val_accuracy: 0.7160\n",
            "Epoch 6/30\n",
            "125/125 [==============================] - 13s 105ms/step - loss: 0.5783 - accuracy: 0.6952 - val_loss: 0.5330 - val_accuracy: 0.7320\n",
            "Epoch 7/30\n",
            "125/125 [==============================] - 13s 105ms/step - loss: 0.5689 - accuracy: 0.7110 - val_loss: 0.5437 - val_accuracy: 0.7160\n",
            "Epoch 8/30\n",
            "125/125 [==============================] - 14s 106ms/step - loss: 0.5520 - accuracy: 0.7278 - val_loss: 0.5004 - val_accuracy: 0.7510\n",
            "Epoch 9/30\n",
            "125/125 [==============================] - 13s 105ms/step - loss: 0.5216 - accuracy: 0.7455 - val_loss: 0.4759 - val_accuracy: 0.7730\n",
            "Epoch 10/30\n",
            "125/125 [==============================] - 14s 106ms/step - loss: 0.5226 - accuracy: 0.7430 - val_loss: 0.4728 - val_accuracy: 0.7730\n",
            "Epoch 11/30\n",
            "125/125 [==============================] - 14s 106ms/step - loss: 0.5024 - accuracy: 0.7542 - val_loss: 0.4565 - val_accuracy: 0.7800\n",
            "Epoch 12/30\n",
            "125/125 [==============================] - 13s 105ms/step - loss: 0.4922 - accuracy: 0.7675 - val_loss: 0.4849 - val_accuracy: 0.7760\n",
            "Epoch 13/30\n",
            "125/125 [==============================] - 13s 105ms/step - loss: 0.4754 - accuracy: 0.7763 - val_loss: 0.4200 - val_accuracy: 0.8060\n",
            "Epoch 14/30\n",
            "125/125 [==============================] - 13s 105ms/step - loss: 0.4551 - accuracy: 0.7847 - val_loss: 0.4632 - val_accuracy: 0.8040\n",
            "Epoch 15/30\n",
            "125/125 [==============================] - 14s 106ms/step - loss: 0.4563 - accuracy: 0.7840 - val_loss: 0.4425 - val_accuracy: 0.8000\n",
            "Epoch 16/30\n",
            "125/125 [==============================] - 13s 105ms/step - loss: 0.4373 - accuracy: 0.7997 - val_loss: 0.4276 - val_accuracy: 0.7950\n",
            "Epoch 17/30\n",
            "125/125 [==============================] - 14s 106ms/step - loss: 0.4288 - accuracy: 0.8092 - val_loss: 0.4301 - val_accuracy: 0.8060\n",
            "Epoch 18/30\n",
            "125/125 [==============================] - 14s 105ms/step - loss: 0.4191 - accuracy: 0.8102 - val_loss: 0.4176 - val_accuracy: 0.8170\n",
            "Epoch 19/30\n",
            "125/125 [==============================] - 14s 106ms/step - loss: 0.4066 - accuracy: 0.8165 - val_loss: 0.3875 - val_accuracy: 0.8360\n",
            "Epoch 20/30\n",
            "125/125 [==============================] - 14s 107ms/step - loss: 0.4021 - accuracy: 0.8210 - val_loss: 0.4491 - val_accuracy: 0.8100\n",
            "Epoch 21/30\n",
            "125/125 [==============================] - 13s 105ms/step - loss: 0.3860 - accuracy: 0.8315 - val_loss: 0.4193 - val_accuracy: 0.8090\n",
            "Epoch 22/30\n",
            "125/125 [==============================] - 14s 106ms/step - loss: 0.3836 - accuracy: 0.8320 - val_loss: 0.3763 - val_accuracy: 0.8330\n",
            "Epoch 23/30\n",
            "125/125 [==============================] - 14s 106ms/step - loss: 0.3722 - accuracy: 0.8397 - val_loss: 0.4384 - val_accuracy: 0.8190\n",
            "Epoch 24/30\n",
            "125/125 [==============================] - 14s 106ms/step - loss: 0.3734 - accuracy: 0.8435 - val_loss: 0.3608 - val_accuracy: 0.8400\n",
            "Epoch 25/30\n",
            "125/125 [==============================] - 13s 105ms/step - loss: 0.3665 - accuracy: 0.8457 - val_loss: 0.4582 - val_accuracy: 0.7980\n",
            "Epoch 26/30\n",
            "125/125 [==============================] - 14s 106ms/step - loss: 0.3533 - accuracy: 0.8475 - val_loss: 0.3744 - val_accuracy: 0.8380\n",
            "Epoch 27/30\n",
            "125/125 [==============================] - 14s 106ms/step - loss: 0.3298 - accuracy: 0.8558 - val_loss: 0.3584 - val_accuracy: 0.8500\n",
            "Epoch 28/30\n",
            "125/125 [==============================] - 13s 105ms/step - loss: 0.3303 - accuracy: 0.8597 - val_loss: 0.5540 - val_accuracy: 0.7960\n",
            "Epoch 29/30\n",
            "125/125 [==============================] - 14s 106ms/step - loss: 0.3361 - accuracy: 0.8505 - val_loss: 0.3666 - val_accuracy: 0.8510\n",
            "Epoch 30/30\n",
            "125/125 [==============================] - 13s 106ms/step - loss: 0.3369 - accuracy: 0.8670 - val_loss: 0.4839 - val_accuracy: 0.8010\n"
          ]
        }
      ]
    },
    {
      "cell_type": "code",
      "source": [
        "import matplotlib.pyplot as plt\n",
        "plt.figure(figsize=(10, 10))\n",
        "accuracy = history.history[\"accuracy\"]\n",
        "val_accuracy = history.history[\"val_accuracy\"]\n",
        "loss = history.history[\"loss\"]\n",
        "val_loss = history.history[\"val_loss\"]\n",
        "epochs = range(1, len(accuracy) + 1)\n",
        "plt.plot(epochs, accuracy, \"bo\", label=\"Training accuracy\")\n",
        "plt.plot(epochs, val_accuracy, \"b\", label=\"Validation accuracy\")\n",
        "plt.title(\"Training and validation accuracy\")\n",
        "plt.legend()\n",
        "plt.figure()\n",
        "plt.figure(figsize=(10, 10))\n",
        "plt.plot(epochs, loss, \"bo\", label=\"Training loss\")\n",
        "plt.plot(epochs, val_loss, \"b\", label=\"Validation loss\")\n",
        "plt.title(\"Training and validation loss\")\n",
        "plt.legend()\n",
        "plt.show()"
      ],
      "metadata": {
        "id": "g81QGzMPWZjE",
        "colab": {
          "base_uri": "https://localhost:8080/",
          "height": 1000
        },
        "outputId": "5c4ab1ce-d5e2-4a36-c250-f36cc30de91a"
      },
      "execution_count": null,
      "outputs": [
        {
          "output_type": "display_data",
          "data": {
            "text/plain": [
              "<Figure size 720x720 with 1 Axes>"
            ],
            "image/png": "[encoded data removed]"
          },
          "metadata": {
            "needs_background": "light"
          }
        },
        {
          "output_type": "display_data",
          "data": {
            "text/plain": [
              "<Figure size 432x288 with 0 Axes>"
            ]
          },
          "metadata": {}
        },
        {
          "output_type": "display_data",
          "data": {
            "text/plain": [
              "<Figure size 720x720 with 1 Axes>"
            ],
            "image/png": "[encoded data removed]"
          },
          "metadata": {
            "needs_background": "light"
          }
        }
      ]
    },
    {
      "cell_type": "code",
      "source": [
        "test_model = keras.models.load_model(\"convnet_from_scratch.keras\")\n",
        "test_loss, test_acc = test_model.evaluate(test_dataset)\n",
        "print(f\"Test accuracy: {test_acc:.3f}\")"
      ],
      "metadata": {
        "id": "lSBrfCTCWf1_",
        "colab": {
          "base_uri": "https://localhost:8080/"
        },
        "outputId": "1cf912a3-7f11-4434-d806-8fb9f26fe9f2"
      },
      "execution_count": null,
      "outputs": [
        {
          "output_type": "stream",
          "name": "stdout",
          "text": [
            "32/32 [==============================] - 2s 54ms/step - loss: 0.4204 - accuracy: 0.8230\n",
            "Test accuracy: 0.823\n"
          ]
        }
      ]
    },
    {
      "cell_type": "markdown",
      "source": [
        "##QUESTION 2 SOLUTION: I changed the training sample to 2,000, orignially at the 1,000 mark. This imporved the test accuracy to be .823. This is showing that the more samples, the more precise the testing accuracy will be. It takes a quick overfitting at 25 epochs so i will change the next sample test to 25 epochs and 3000 samples."
      ],
      "metadata": {
        "id": "cCS58Q0OWhhR"
      }
    },
    {
      "cell_type": "markdown",
      "source": [
        "## QUESTION 3: Now change your training sample so that you achieve better performance than those from Steps 1 and 2. This sample size may be larger, or smaller than those in the previous steps. The objective is to find the ideal training sample size to get best prediction results.  "
      ],
      "metadata": {
        "id": "-f1zXPy5W2nK"
      }
    },
    {
      "cell_type": "code",
      "source": [
        "import os, shutil, pathlib\n",
        "\n",
        "original_dir = pathlib.Path(\"train\")\n",
        "new_base_dir = pathlib.Path(\"dogs-vs-cats-small-QuestionThree\")\n",
        "\n",
        "def make_subset(subset_name, start_index, end_index):\n",
        "    for category in (\"cat\", \"dog\"):\n",
        "        dir = new_base_dir / subset_name / category\n",
        "        os.makedirs(dir)\n",
        "        fnames = [f\"{category}.{i}.jpg\" for i in range(start_index, end_index)]\n",
        "        for fname in fnames:\n",
        "            shutil.copyfile(src=original_dir / fname,\n",
        "                            dst=dir / fname)\n",
        "\n",
        "make_subset(\"train\", start_index=0, end_index=3000)\n",
        "make_subset(\"validation\", start_index=3000, end_index=3500)\n",
        "make_subset(\"test1\", start_index=3500, end_index=4000)"
      ],
      "metadata": {
        "id": "BlVVk-r1l3oa"
      },
      "execution_count": null,
      "outputs": []
    },
    {
      "cell_type": "code",
      "source": [
        "data_augmentation = keras.Sequential(\n",
        "    [\n",
        "        layers.RandomFlip(\"horizontal\"),\n",
        "        layers.RandomRotation(0.1),\n",
        "        layers.RandomZoom(0.2),\n",
        "    ]\n",
        ")"
      ],
      "metadata": {
        "id": "Gm17_Bp8mLac"
      },
      "execution_count": null,
      "outputs": []
    },
    {
      "cell_type": "code",
      "source": [
        "from tensorflow import keras\n",
        "from tensorflow.keras import layers\n",
        "\n",
        "inputs = keras.Input(shape=(180, 180, 3))\n",
        "x = data_augmentation(inputs)\n",
        "x = layers.Rescaling(1./255)(x)\n",
        "x = layers.Conv2D(filters=32, kernel_size=3, activation=\"relu\")(x)\n",
        "x = layers.MaxPooling2D(pool_size=2)(x)\n",
        "x = layers.Conv2D(filters=64, kernel_size=3, activation=\"relu\")(x)\n",
        "x = layers.MaxPooling2D(pool_size=2)(x)\n",
        "x = layers.Conv2D(filters=128, kernel_size=3, activation=\"relu\")(x)\n",
        "x = layers.MaxPooling2D(pool_size=2)(x)\n",
        "x = layers.Conv2D(filters=256, kernel_size=3, activation=\"relu\")(x)\n",
        "x = layers.MaxPooling2D(pool_size=2)(x)\n",
        "x = layers.Conv2D(filters=256, kernel_size=3, activation=\"relu\")(x)\n",
        "x = layers.Flatten()(x)\n",
        "x = layers.Dropout(0.5)(x)\n",
        "outputs = layers.Dense(1, activation=\"sigmoid\")(x)\n",
        "model = keras.Model(inputs=inputs, outputs=outputs)\n",
        "\n",
        "model.compile(loss=\"binary_crossentropy\",\n",
        "              optimizer=\"rmsprop\",\n",
        "              metrics=[\"accuracy\"])"
      ],
      "metadata": {
        "id": "j-ejaui-mS4G"
      },
      "execution_count": null,
      "outputs": []
    },
    {
      "cell_type": "code",
      "source": [
        "model.compile(loss=\"binary_crossentropy\",\n",
        "              optimizer=\"rmsprop\",\n",
        "              metrics=[\"accuracy\"])"
      ],
      "metadata": {
        "id": "9-iaYwB6mtBp"
      },
      "execution_count": null,
      "outputs": []
    },
    {
      "cell_type": "code",
      "source": [
        "from tensorflow.keras.utils import image_dataset_from_directory\n",
        "\n",
        "train_dataset = image_dataset_from_directory(\n",
        "    new_base_dir / \"train\",\n",
        "    image_size=(180, 180),\n",
        "    batch_size=32)\n",
        "validation_dataset = image_dataset_from_directory(\n",
        "    new_base_dir / \"validation\",\n",
        "    image_size=(180, 180),\n",
        "    batch_size=32)\n",
        "test_dataset = image_dataset_from_directory(\n",
        "    new_base_dir / \"test1\",\n",
        "    image_size=(180, 180),\n",
        "    batch_size=32)"
      ],
      "metadata": {
        "colab": {
          "base_uri": "https://localhost:8080/"
        },
        "id": "GYdraIv_mygc",
        "outputId": "4ea81063-c3af-4749-a091-2c2d77244a7e"
      },
      "execution_count": null,
      "outputs": [
        {
          "output_type": "stream",
          "name": "stdout",
          "text": [
            "Found 6000 files belonging to 2 classes.\n",
            "Found 1000 files belonging to 2 classes.\n",
            "Found 1000 files belonging to 2 classes.\n"
          ]
        }
      ]
    },
    {
      "cell_type": "code",
      "source": [
        "import numpy as np\n",
        "import tensorflow as tf\n",
        "random_numbers = np.random.normal(size=(1000, 16))\n",
        "dataset = tf.data.Dataset.from_tensor_slices(random_numbers)"
      ],
      "metadata": {
        "id": "XYa_Mn0_m3UX"
      },
      "execution_count": null,
      "outputs": []
    },
    {
      "cell_type": "code",
      "source": [
        "for i, element in enumerate(dataset):\n",
        "    print(element.shape)\n",
        "    if i >= 2:\n",
        "      break"
      ],
      "metadata": {
        "colab": {
          "base_uri": "https://localhost:8080/"
        },
        "id": "EKN6A62Em_S4",
        "outputId": "cb27d78a-c937-491a-b403-aaf39e5df08d"
      },
      "execution_count": null,
      "outputs": [
        {
          "output_type": "stream",
          "name": "stdout",
          "text": [
            "(16,)\n",
            "(16,)\n",
            "(16,)\n"
          ]
        }
      ]
    },
    {
      "cell_type": "code",
      "source": [
        "batched_dataset = dataset.batch(32)\n",
        "for i, element in enumerate(batched_dataset):\n",
        "    print(element.shape)\n",
        "    if i >= 2:\n",
        "        break"
      ],
      "metadata": {
        "colab": {
          "base_uri": "https://localhost:8080/"
        },
        "id": "5cBrbzWQnDQx",
        "outputId": "7041bc03-33d1-434d-e8c1-028664bb97bf"
      },
      "execution_count": null,
      "outputs": [
        {
          "output_type": "stream",
          "name": "stdout",
          "text": [
            "(32, 16)\n",
            "(32, 16)\n",
            "(32, 16)\n"
          ]
        }
      ]
    },
    {
      "cell_type": "code",
      "source": [
        "reshaped_dataset = dataset.map(lambda x: tf.reshape(x, (4, 4)))\n",
        "for i, element in enumerate(reshaped_dataset):\n",
        "    print(element.shape)\n",
        "    if i >= 2:\n",
        "        break"
      ],
      "metadata": {
        "colab": {
          "base_uri": "https://localhost:8080/"
        },
        "id": "BqkyDsmGnIen",
        "outputId": "ee2c906d-7937-4260-87d7-d7d6f228275a"
      },
      "execution_count": null,
      "outputs": [
        {
          "output_type": "stream",
          "name": "stdout",
          "text": [
            "(4, 4)\n",
            "(4, 4)\n",
            "(4, 4)\n"
          ]
        }
      ]
    },
    {
      "cell_type": "code",
      "source": [
        "for data_batch, labels_batch in train_dataset:\n",
        "    print(\"data batch shape:\", data_batch.shape)\n",
        "    print(\"labels batch shape:\", labels_batch.shape)\n",
        "    break"
      ],
      "metadata": {
        "colab": {
          "base_uri": "https://localhost:8080/"
        },
        "id": "pdijQGrtnODM",
        "outputId": "1a061551-2b24-4ebc-e259-b0aaccf82015"
      },
      "execution_count": null,
      "outputs": [
        {
          "output_type": "stream",
          "name": "stdout",
          "text": [
            "data batch shape: (32, 180, 180, 3)\n",
            "labels batch shape: (32,)\n"
          ]
        }
      ]
    },
    {
      "cell_type": "code",
      "source": [
        "from keras.callbacks import ModelCheckpoint, EarlyStopping\n",
        "callbacks = [\n",
        "    keras.callbacks.ModelCheckpoint(\n",
        "        filepath=\"convnet_from_scratch.keras\",\n",
        "        save_best_only=True,\n",
        "        monitor=\"val_loss\")\n",
        "]\n",
        "history = model.fit(\n",
        "    train_dataset,\n",
        "    epochs=25,\n",
        "    validation_data=validation_dataset,\n",
        "    callbacks=callbacks)"
      ],
      "metadata": {
        "colab": {
          "base_uri": "https://localhost:8080/"
        },
        "id": "Zu8z-yljnTK7",
        "outputId": "de4ebc96-4de6-41e2-a887-47143a27b49b"
      },
      "execution_count": null,
      "outputs": [
        {
          "output_type": "stream",
          "name": "stdout",
          "text": [
            "Epoch 1/25\n",
            "188/188 [==============================] - 21s 102ms/step - loss: 0.7058 - accuracy: 0.5455 - val_loss: 0.6596 - val_accuracy: 0.6000\n",
            "Epoch 2/25\n",
            "188/188 [==============================] - 19s 101ms/step - loss: 0.6500 - accuracy: 0.6340 - val_loss: 0.6129 - val_accuracy: 0.6700\n",
            "Epoch 3/25\n",
            "188/188 [==============================] - 19s 100ms/step - loss: 0.6187 - accuracy: 0.6663 - val_loss: 0.6248 - val_accuracy: 0.6360\n",
            "Epoch 4/25\n",
            "188/188 [==============================] - 19s 100ms/step - loss: 0.5848 - accuracy: 0.6892 - val_loss: 0.5373 - val_accuracy: 0.7320\n",
            "Epoch 5/25\n",
            "188/188 [==============================] - 19s 102ms/step - loss: 0.5656 - accuracy: 0.7090 - val_loss: 0.4726 - val_accuracy: 0.7950\n",
            "Epoch 6/25\n",
            "188/188 [==============================] - 21s 111ms/step - loss: 0.5340 - accuracy: 0.7357 - val_loss: 0.4667 - val_accuracy: 0.7900\n",
            "Epoch 7/25\n",
            "188/188 [==============================] - 19s 100ms/step - loss: 0.5205 - accuracy: 0.7533 - val_loss: 0.6714 - val_accuracy: 0.6830\n",
            "Epoch 8/25\n",
            "188/188 [==============================] - 19s 101ms/step - loss: 0.4922 - accuracy: 0.7645 - val_loss: 0.5850 - val_accuracy: 0.7380\n",
            "Epoch 9/25\n",
            "188/188 [==============================] - 19s 100ms/step - loss: 0.4653 - accuracy: 0.7823 - val_loss: 0.4876 - val_accuracy: 0.7750\n",
            "Epoch 10/25\n",
            "188/188 [==============================] - 19s 101ms/step - loss: 0.4690 - accuracy: 0.7838 - val_loss: 0.4095 - val_accuracy: 0.8110\n",
            "Epoch 11/25\n",
            "188/188 [==============================] - 20s 102ms/step - loss: 0.4488 - accuracy: 0.7925 - val_loss: 0.5146 - val_accuracy: 0.7850\n",
            "Epoch 12/25\n",
            "188/188 [==============================] - 19s 101ms/step - loss: 0.4306 - accuracy: 0.8090 - val_loss: 0.3717 - val_accuracy: 0.8370\n",
            "Epoch 13/25\n",
            "188/188 [==============================] - 19s 101ms/step - loss: 0.4222 - accuracy: 0.8105 - val_loss: 0.4010 - val_accuracy: 0.7990\n",
            "Epoch 14/25\n",
            "188/188 [==============================] - 19s 100ms/step - loss: 0.4055 - accuracy: 0.8180 - val_loss: 0.3523 - val_accuracy: 0.8520\n",
            "Epoch 15/25\n",
            "188/188 [==============================] - 19s 100ms/step - loss: 0.3881 - accuracy: 0.8280 - val_loss: 0.3769 - val_accuracy: 0.8300\n",
            "Epoch 16/25\n",
            "188/188 [==============================] - 20s 103ms/step - loss: 0.3934 - accuracy: 0.8277 - val_loss: 0.4555 - val_accuracy: 0.7960\n",
            "Epoch 17/25\n",
            "188/188 [==============================] - 20s 102ms/step - loss: 0.3671 - accuracy: 0.8383 - val_loss: 0.5319 - val_accuracy: 0.8010\n",
            "Epoch 18/25\n",
            "188/188 [==============================] - 19s 101ms/step - loss: 0.3650 - accuracy: 0.8395 - val_loss: 0.3157 - val_accuracy: 0.8620\n",
            "Epoch 19/25\n",
            "188/188 [==============================] - 19s 100ms/step - loss: 0.3538 - accuracy: 0.8473 - val_loss: 0.3306 - val_accuracy: 0.8760\n",
            "Epoch 20/25\n",
            "188/188 [==============================] - 19s 100ms/step - loss: 0.3480 - accuracy: 0.8450 - val_loss: 0.3568 - val_accuracy: 0.8540\n",
            "Epoch 21/25\n",
            "188/188 [==============================] - 20s 102ms/step - loss: 0.3310 - accuracy: 0.8530 - val_loss: 0.3297 - val_accuracy: 0.8680\n",
            "Epoch 22/25\n",
            "188/188 [==============================] - 19s 101ms/step - loss: 0.3306 - accuracy: 0.8548 - val_loss: 1.0019 - val_accuracy: 0.7440\n",
            "Epoch 23/25\n",
            "188/188 [==============================] - 19s 100ms/step - loss: 0.3269 - accuracy: 0.8617 - val_loss: 0.3019 - val_accuracy: 0.8770\n",
            "Epoch 24/25\n",
            "188/188 [==============================] - 19s 100ms/step - loss: 0.3124 - accuracy: 0.8700 - val_loss: 0.3552 - val_accuracy: 0.8630\n",
            "Epoch 25/25\n",
            "188/188 [==============================] - 19s 101ms/step - loss: 0.3230 - accuracy: 0.8678 - val_loss: 0.2705 - val_accuracy: 0.8930\n"
          ]
        }
      ]
    },
    {
      "cell_type": "code",
      "source": [
        "import matplotlib.pyplot as plt\n",
        "plt.figure(figsize=(10, 10))\n",
        "accuracy = history.history[\"accuracy\"]\n",
        "val_accuracy = history.history[\"val_accuracy\"]\n",
        "loss = history.history[\"loss\"]\n",
        "val_loss = history.history[\"val_loss\"]\n",
        "epochs = range(1, len(accuracy) + 1)\n",
        "plt.plot(epochs, accuracy, \"bo\", label=\"Training accuracy\")\n",
        "plt.plot(epochs, val_accuracy, \"b\", label=\"Validation accuracy\")\n",
        "plt.title(\"Training and validation accuracy\")\n",
        "plt.legend()\n",
        "plt.figure()\n",
        "plt.figure(figsize=(10, 10))\n",
        "plt.plot(epochs, loss, \"bo\", label=\"Training loss\")\n",
        "plt.plot(epochs, val_loss, \"b\", label=\"Validation loss\")\n",
        "plt.title(\"Training and validation loss\")\n",
        "plt.legend()\n",
        "plt.show()"
      ],
      "metadata": {
        "colab": {
          "base_uri": "https://localhost:8080/",
          "height": 1000
        },
        "id": "_footabDpkGX",
        "outputId": "c06bc13e-846b-4c03-9401-e4badfe9e05f"
      },
      "execution_count": null,
      "outputs": [
        {
          "output_type": "display_data",
          "data": {
            "text/plain": [
              "<Figure size 720x720 with 1 Axes>"
            ],
            "image/png": "[encoded data removed]"
          },
          "metadata": {
            "needs_background": "light"
          }
        },
        {
          "output_type": "display_data",
          "data": {
            "text/plain": [
              "<Figure size 432x288 with 0 Axes>"
            ]
          },
          "metadata": {}
        },
        {
          "output_type": "display_data",
          "data": {
            "text/plain": [
              "<Figure size 720x720 with 1 Axes>"
            ],
            "image/png": "[encoded data removed]"
          },
          "metadata": {
            "needs_background": "light"
          }
        }
      ]
    },
    {
      "cell_type": "code",
      "source": [
        "test_model = keras.models.load_model(\"convnet_from_scratch.keras\")\n",
        "test_loss, test_acc = test_model.evaluate(test_dataset)\n",
        "print(f\"Test accuracy: {test_acc:.3f}\")"
      ],
      "metadata": {
        "colab": {
          "base_uri": "https://localhost:8080/"
        },
        "id": "Wv5fzy4PptIa",
        "outputId": "29a86bb8-ce7d-495a-a904-99546daaa549"
      },
      "execution_count": null,
      "outputs": [
        {
          "output_type": "stream",
          "name": "stdout",
          "text": [
            "32/32 [==============================] - 3s 50ms/step - loss: 0.3467 - accuracy: 0.8710\n",
            "Test accuracy: 0.871\n"
          ]
        }
      ]
    },
    {
      "cell_type": "markdown",
      "source": [
        "##Question 3 Solution: The higher the smaple count, the more likely it will be that the test accurcy score nears 1. For this case it rose to .871. In order to find the best fit, adding more samples and continuing to do the test will be needed. Adjusting the filter size and batch sizes may also have positive affects on the test accurasy as the images are to be looked at in greater detail. "
      ],
      "metadata": {
        "id": "CvMbgxL-pxap"
      }
    },
    {
      "cell_type": "markdown",
      "metadata": {
        "id": "sULSaW39EFNP"
      },
      "source": [
        "## Leveraging a pretrained model"
      ]
    },
    {
      "cell_type": "markdown",
      "metadata": {
        "id": "AVJX5tgjEFNQ"
      },
      "source": [
        "### Feature extraction with a pretrained model"
      ]
    },
    {
      "cell_type": "markdown",
      "metadata": {
        "id": "7k16Tv8kEFNQ"
      },
      "source": [
        "**Instantiating the VGG16 convolutional base**"
      ]
    },
    {
      "cell_type": "code",
      "execution_count": null,
      "metadata": {
        "id": "exEvcSLvEFNQ",
        "colab": {
          "base_uri": "https://localhost:8080/"
        },
        "outputId": "235a8730-b118-475f-cfc3-299403480907"
      },
      "outputs": [
        {
          "output_type": "stream",
          "name": "stdout",
          "text": [
            "Downloading data from https://storage.googleapis.com/tensorflow/keras-applications/vgg16/vgg16_weights_tf_dim_ordering_tf_kernels_notop.h5\n",
            "58892288/58889256 [==============================] - 1s 0us/step\n",
            "58900480/58889256 [==============================] - 1s 0us/step\n"
          ]
        }
      ],
      "source": [
        "conv_base = keras.applications.vgg16.VGG16(\n",
        "    weights=\"imagenet\",\n",
        "    include_top=False,\n",
        "    input_shape=(180, 180, 3))"
      ]
    },
    {
      "cell_type": "code",
      "execution_count": null,
      "metadata": {
        "id": "-SbSYTouEFNQ",
        "colab": {
          "base_uri": "https://localhost:8080/"
        },
        "outputId": "2558c646-cc54-47a7-ea1e-3b4ce6c76611"
      },
      "outputs": [
        {
          "output_type": "stream",
          "name": "stdout",
          "text": [
            "Model: \"vgg16\"\n",
            "_________________________________________________________________\n",
            " Layer (type)                Output Shape              Param #   \n",
            "=================================================================\n",
            " input_10 (InputLayer)       [(None, 180, 180, 3)]     0         \n",
            "                                                                 \n",
            " block1_conv1 (Conv2D)       (None, 180, 180, 64)      1792      \n",
            "                                                                 \n",
            " block1_conv2 (Conv2D)       (None, 180, 180, 64)      36928     \n",
            "                                                                 \n",
            " block1_pool (MaxPooling2D)  (None, 90, 90, 64)        0         \n",
            "                                                                 \n",
            " block2_conv1 (Conv2D)       (None, 90, 90, 128)       73856     \n",
            "                                                                 \n",
            " block2_conv2 (Conv2D)       (None, 90, 90, 128)       147584    \n",
            "                                                                 \n",
            " block2_pool (MaxPooling2D)  (None, 45, 45, 128)       0         \n",
            "                                                                 \n",
            " block3_conv1 (Conv2D)       (None, 45, 45, 256)       295168    \n",
            "                                                                 \n",
            " block3_conv2 (Conv2D)       (None, 45, 45, 256)       590080    \n",
            "                                                                 \n",
            " block3_conv3 (Conv2D)       (None, 45, 45, 256)       590080    \n",
            "                                                                 \n",
            " block3_pool (MaxPooling2D)  (None, 22, 22, 256)       0         \n",
            "                                                                 \n",
            " block4_conv1 (Conv2D)       (None, 22, 22, 512)       1180160   \n",
            "                                                                 \n",
            " block4_conv2 (Conv2D)       (None, 22, 22, 512)       2359808   \n",
            "                                                                 \n",
            " block4_conv3 (Conv2D)       (None, 22, 22, 512)       2359808   \n",
            "                                                                 \n",
            " block4_pool (MaxPooling2D)  (None, 11, 11, 512)       0         \n",
            "                                                                 \n",
            " block5_conv1 (Conv2D)       (None, 11, 11, 512)       2359808   \n",
            "                                                                 \n",
            " block5_conv2 (Conv2D)       (None, 11, 11, 512)       2359808   \n",
            "                                                                 \n",
            " block5_conv3 (Conv2D)       (None, 11, 11, 512)       2359808   \n",
            "                                                                 \n",
            " block5_pool (MaxPooling2D)  (None, 5, 5, 512)         0         \n",
            "                                                                 \n",
            "=================================================================\n",
            "Total params: 14,714,688\n",
            "Trainable params: 14,714,688\n",
            "Non-trainable params: 0\n",
            "_________________________________________________________________\n"
          ]
        }
      ],
      "source": [
        "conv_base.summary()"
      ]
    },
    {
      "cell_type": "markdown",
      "metadata": {
        "id": "FzgptLUNEFNQ"
      },
      "source": [
        "#### Fast feature extraction without data augmentation"
      ]
    },
    {
      "cell_type": "markdown",
      "metadata": {
        "id": "LI__Oj0IEFNR"
      },
      "source": [
        "**Extracting the VGG16 features and corresponding labels**"
      ]
    },
    {
      "cell_type": "code",
      "execution_count": null,
      "metadata": {
        "id": "ZAngYhqWEFNR"
      },
      "outputs": [],
      "source": [
        "import numpy as np\n",
        "\n",
        "def get_features_and_labels(dataset):\n",
        "    all_features = []\n",
        "    all_labels = []\n",
        "    for images, labels in dataset:\n",
        "        preprocessed_images = keras.applications.vgg16.preprocess_input(images)\n",
        "        features = conv_base.predict(preprocessed_images)\n",
        "        all_features.append(features)\n",
        "        all_labels.append(labels)\n",
        "    return np.concatenate(all_features), np.concatenate(all_labels)\n",
        "\n",
        "train_features, train_labels =  get_features_and_labels(train_dataset)\n",
        "val_features, val_labels =  get_features_and_labels(validation_dataset)\n",
        "test_features, test_labels =  get_features_and_labels(test_dataset)"
      ]
    },
    {
      "cell_type": "code",
      "execution_count": null,
      "metadata": {
        "id": "PWzRFVjoEFNR",
        "colab": {
          "base_uri": "https://localhost:8080/"
        },
        "outputId": "38e370c5-73ef-4726-9fe7-c52a295a6a2c"
      },
      "outputs": [
        {
          "output_type": "execute_result",
          "data": {
            "text/plain": [
              "(6000, 5, 5, 512)"
            ]
          },
          "metadata": {},
          "execution_count": 71
        }
      ],
      "source": [
        "train_features.shape"
      ]
    },
    {
      "cell_type": "markdown",
      "metadata": {
        "id": "aVu6AQouEFNR"
      },
      "source": [
        "**Defining and training the densely connected classifier**"
      ]
    },
    {
      "cell_type": "code",
      "execution_count": null,
      "metadata": {
        "id": "xQ3KaP_QEFNR",
        "colab": {
          "base_uri": "https://localhost:8080/"
        },
        "outputId": "581ec20f-62a9-4542-a416-dc0038410486"
      },
      "outputs": [
        {
          "output_type": "stream",
          "name": "stdout",
          "text": [
            "Epoch 1/25\n",
            "188/188 [==============================] - 2s 9ms/step - loss: 10.4105 - accuracy: 0.9448 - val_loss: 3.3348 - val_accuracy: 0.9770\n",
            "Epoch 2/25\n",
            "188/188 [==============================] - 1s 8ms/step - loss: 3.0594 - accuracy: 0.9795 - val_loss: 4.4992 - val_accuracy: 0.9770\n",
            "Epoch 3/25\n",
            "188/188 [==============================] - 1s 8ms/step - loss: 2.1501 - accuracy: 0.9853 - val_loss: 6.9236 - val_accuracy: 0.9710\n",
            "Epoch 4/25\n",
            "188/188 [==============================] - 2s 8ms/step - loss: 0.9309 - accuracy: 0.9920 - val_loss: 4.9813 - val_accuracy: 0.9740\n",
            "Epoch 5/25\n",
            "188/188 [==============================] - 1s 8ms/step - loss: 0.8473 - accuracy: 0.9922 - val_loss: 5.5488 - val_accuracy: 0.9730\n",
            "Epoch 6/25\n",
            "188/188 [==============================] - 2s 8ms/step - loss: 0.8351 - accuracy: 0.9920 - val_loss: 5.1456 - val_accuracy: 0.9790\n",
            "Epoch 7/25\n",
            "188/188 [==============================] - 2s 8ms/step - loss: 0.3957 - accuracy: 0.9952 - val_loss: 5.0185 - val_accuracy: 0.9770\n",
            "Epoch 8/25\n",
            "188/188 [==============================] - 1s 8ms/step - loss: 0.5304 - accuracy: 0.9950 - val_loss: 4.3634 - val_accuracy: 0.9770\n",
            "Epoch 9/25\n",
            "188/188 [==============================] - 1s 8ms/step - loss: 0.3885 - accuracy: 0.9965 - val_loss: 4.9383 - val_accuracy: 0.9770\n",
            "Epoch 10/25\n",
            "188/188 [==============================] - 1s 8ms/step - loss: 0.2043 - accuracy: 0.9968 - val_loss: 4.2012 - val_accuracy: 0.9750\n",
            "Epoch 11/25\n",
            "188/188 [==============================] - 1s 8ms/step - loss: 0.1465 - accuracy: 0.9982 - val_loss: 4.7686 - val_accuracy: 0.9800\n",
            "Epoch 12/25\n",
            "188/188 [==============================] - 2s 8ms/step - loss: 0.4180 - accuracy: 0.9967 - val_loss: 4.8232 - val_accuracy: 0.9790\n",
            "Epoch 13/25\n",
            "188/188 [==============================] - 1s 8ms/step - loss: 0.2907 - accuracy: 0.9977 - val_loss: 6.1549 - val_accuracy: 0.9780\n",
            "Epoch 14/25\n",
            "188/188 [==============================] - 2s 8ms/step - loss: 0.2420 - accuracy: 0.9980 - val_loss: 6.6950 - val_accuracy: 0.9770\n",
            "Epoch 15/25\n",
            "188/188 [==============================] - 1s 8ms/step - loss: 0.1133 - accuracy: 0.9982 - val_loss: 5.0270 - val_accuracy: 0.9770\n",
            "Epoch 16/25\n",
            "188/188 [==============================] - 1s 8ms/step - loss: 0.1921 - accuracy: 0.9980 - val_loss: 5.3441 - val_accuracy: 0.9820\n",
            "Epoch 17/25\n",
            "188/188 [==============================] - 1s 8ms/step - loss: 0.2350 - accuracy: 0.9983 - val_loss: 5.1134 - val_accuracy: 0.9760\n",
            "Epoch 18/25\n",
            "188/188 [==============================] - 1s 8ms/step - loss: 0.0287 - accuracy: 0.9992 - val_loss: 5.7476 - val_accuracy: 0.9730\n",
            "Epoch 19/25\n",
            "188/188 [==============================] - 1s 8ms/step - loss: 0.0499 - accuracy: 0.9993 - val_loss: 5.5009 - val_accuracy: 0.9820\n",
            "Epoch 20/25\n",
            "188/188 [==============================] - 2s 8ms/step - loss: 2.9404e-12 - accuracy: 1.0000 - val_loss: 5.5032 - val_accuracy: 0.9820\n",
            "Epoch 21/25\n",
            "188/188 [==============================] - 2s 8ms/step - loss: 0.0333 - accuracy: 0.9992 - val_loss: 4.9036 - val_accuracy: 0.9780\n",
            "Epoch 22/25\n",
            "188/188 [==============================] - 2s 11ms/step - loss: 0.0194 - accuracy: 0.9997 - val_loss: 5.1899 - val_accuracy: 0.9810\n",
            "Epoch 23/25\n",
            "188/188 [==============================] - 2s 9ms/step - loss: 0.0430 - accuracy: 0.9988 - val_loss: 8.4251 - val_accuracy: 0.9750\n",
            "Epoch 24/25\n",
            "188/188 [==============================] - 2s 8ms/step - loss: 0.1540 - accuracy: 0.9982 - val_loss: 5.3045 - val_accuracy: 0.9780\n",
            "Epoch 25/25\n",
            "188/188 [==============================] - 2s 8ms/step - loss: 0.1407 - accuracy: 0.9982 - val_loss: 5.4405 - val_accuracy: 0.9780\n"
          ]
        }
      ],
      "source": [
        "inputs = keras.Input(shape=(5, 5, 512))\n",
        "x = layers.Flatten()(inputs)\n",
        "x = layers.Dense(256)(x)\n",
        "x = layers.Dropout(0.5)(x)\n",
        "outputs = layers.Dense(1, activation=\"sigmoid\")(x)\n",
        "model = keras.Model(inputs, outputs)\n",
        "model.compile(loss=\"binary_crossentropy\",\n",
        "              optimizer=\"rmsprop\",\n",
        "              metrics=[\"accuracy\"])\n",
        "\n",
        "callbacks = [\n",
        "    keras.callbacks.ModelCheckpoint(\n",
        "      filepath=\"feature_extraction.keras\",\n",
        "      save_best_only=True,\n",
        "      monitor=\"val_loss\")\n",
        "]\n",
        "history = model.fit(\n",
        "    train_features, train_labels,\n",
        "    epochs=25,\n",
        "    validation_data=(val_features, val_labels),\n",
        "    callbacks=callbacks)"
      ]
    },
    {
      "cell_type": "markdown",
      "metadata": {
        "id": "o5FqZCUKEFNS"
      },
      "source": [
        "**Plotting the results**"
      ]
    },
    {
      "cell_type": "code",
      "execution_count": null,
      "metadata": {
        "id": "69DK9J9vEFNS",
        "colab": {
          "base_uri": "https://localhost:8080/",
          "height": 545
        },
        "outputId": "5db4bbb8-c5d8-4699-b0bb-60badf006749"
      },
      "outputs": [
        {
          "output_type": "display_data",
          "data": {
            "text/plain": [
              "<Figure size 432x288 with 1 Axes>"
            ],
            "image/png": "[encoded data removed]"
          },
          "metadata": {
            "needs_background": "light"
          }
        },
        {
          "output_type": "display_data",
          "data": {
            "text/plain": [
              "<Figure size 432x288 with 1 Axes>"
            ],
            "image/png": "[encoded data removed]"
          },
          "metadata": {
            "needs_background": "light"
          }
        }
      ],
      "source": [
        "import matplotlib.pyplot as plt\n",
        "acc = history.history[\"accuracy\"]\n",
        "val_acc = history.history[\"val_accuracy\"]\n",
        "loss = history.history[\"loss\"]\n",
        "val_loss = history.history[\"val_loss\"]\n",
        "epochs = range(1, len(acc) + 1)\n",
        "plt.plot(epochs, acc, \"bo\", label=\"Training accuracy\")\n",
        "plt.plot(epochs, val_acc, \"b\", label=\"Validation accuracy\")\n",
        "plt.title(\"Training and validation accuracy\")\n",
        "plt.legend()\n",
        "plt.figure()\n",
        "plt.plot(epochs, loss, \"bo\", label=\"Training loss\")\n",
        "plt.plot(epochs, val_loss, \"b\", label=\"Validation loss\")\n",
        "plt.title(\"Training and validation loss\")\n",
        "plt.legend()\n",
        "plt.show()"
      ]
    },
    {
      "cell_type": "markdown",
      "metadata": {
        "id": "ih-5_F0TEFNU"
      },
      "source": [
        "#### Feature extraction together with data augmentation"
      ]
    },
    {
      "cell_type": "markdown",
      "metadata": {
        "id": "_xPPmb43EFNU"
      },
      "source": [
        "**Instantiating and freezing the VGG16 convolutional base**"
      ]
    },
    {
      "cell_type": "markdown",
      "source": [
        "VGG16 uses imagenet inside, allowing us to use a more general scenario where classes dont overlap the classes of the original model. VGG is the convolution base while it is being trained on the imagenet to extract key features of the cats and dogs"
      ],
      "metadata": {
        "id": "jPHhWK8fzYfK"
      }
    },
    {
      "cell_type": "code",
      "execution_count": null,
      "metadata": {
        "id": "Xn1ylGl7EFNU"
      },
      "outputs": [],
      "source": [
        "conv_base  = keras.applications.vgg16.VGG16(\n",
        "    weights=\"imagenet\",\n",
        "    include_top=False)\n",
        "conv_base.trainable = False"
      ]
    },
    {
      "cell_type": "markdown",
      "metadata": {
        "id": "-Xe7de-OEFNV"
      },
      "source": [
        "**Printing the list of trainable weights before and after freezing**"
      ]
    },
    {
      "cell_type": "code",
      "execution_count": null,
      "metadata": {
        "id": "gXqL5uWHEFNV",
        "colab": {
          "base_uri": "https://localhost:8080/"
        },
        "outputId": "5f274b3c-9a25-4420-c035-5c35cc3d385a"
      },
      "outputs": [
        {
          "output_type": "stream",
          "name": "stdout",
          "text": [
            "This is the number of trainable weights before freezing the conv base: 26\n"
          ]
        }
      ],
      "source": [
        "conv_base.trainable = True\n",
        "print(\"This is the number of trainable weights \"\n",
        "      \"before freezing the conv base:\", len(conv_base.trainable_weights))"
      ]
    },
    {
      "cell_type": "code",
      "execution_count": null,
      "metadata": {
        "id": "Zlayaw2ZEFNV",
        "colab": {
          "base_uri": "https://localhost:8080/"
        },
        "outputId": "03297187-38f2-4b17-8b50-f8e8f12b8107"
      },
      "outputs": [
        {
          "output_type": "stream",
          "name": "stdout",
          "text": [
            "This is the number of trainable weights after freezing the conv base: 0\n"
          ]
        }
      ],
      "source": [
        "conv_base.trainable = False\n",
        "print(\"This is the number of trainable weights \"\n",
        "      \"after freezing the conv base:\", len(conv_base.trainable_weights))"
      ]
    },
    {
      "cell_type": "markdown",
      "source": [
        "We freeze the conolution base becuase we do not want the weights beinng updated during the training process. We do this so everything that was prelearned, stays prelearned and doesnt continue to evolve. "
      ],
      "metadata": {
        "id": "kjQ2h52d0dqO"
      }
    },
    {
      "cell_type": "markdown",
      "metadata": {
        "id": "Bokrc6BnEFNW"
      },
      "source": [
        "**Adding a data augmentation stage and a classifier to the convolutional base**"
      ]
    },
    {
      "cell_type": "code",
      "execution_count": null,
      "metadata": {
        "id": "qX1ymgk3EFNW"
      },
      "outputs": [],
      "source": [
        "data_augmentation = keras.Sequential(\n",
        "    [\n",
        "        layers.RandomFlip(\"horizontal\"),\n",
        "        layers.RandomRotation(0.1),\n",
        "        layers.RandomZoom(0.2),\n",
        "    ]\n",
        ")\n",
        "\n",
        "inputs = keras.Input(shape=(180, 180, 3))\n",
        "x = data_augmentation(inputs)\n",
        "x = keras.applications.vgg16.preprocess_input(x)\n",
        "x = conv_base(x)\n",
        "x = layers.Flatten()(x)\n",
        "x = layers.Dense(256)(x)\n",
        "x = layers.Dropout(0.5)(x)\n",
        "outputs = layers.Dense(1, activation=\"sigmoid\")(x)\n",
        "model = keras.Model(inputs, outputs)\n",
        "model.compile(loss=\"binary_crossentropy\",\n",
        "              optimizer=\"rmsprop\",\n",
        "              metrics=[\"accuracy\"])"
      ]
    },
    {
      "cell_type": "code",
      "execution_count": null,
      "metadata": {
        "id": "U46FWLJQEFNW",
        "colab": {
          "base_uri": "https://localhost:8080/",
          "height": 232
        },
        "outputId": "c6fb4065-999c-427a-ca42-a10505a037b4"
      },
      "outputs": [
        {
          "output_type": "error",
          "ename": "NameError",
          "evalue": "ignored",
          "traceback": [
            "\u001b[0;31m---------------------------------------------------------------------------\u001b[0m",
            "\u001b[0;31mNameError\u001b[0m                                 Traceback (most recent call last)",
            "\u001b[0;32m<ipython-input-2-a0eb0c8d8bdb>\u001b[0m in \u001b[0;36m<module>\u001b[0;34m()\u001b[0m\n\u001b[1;32m      1\u001b[0m callbacks = [\n\u001b[0;32m----> 2\u001b[0;31m     keras.callbacks.ModelCheckpoint(\n\u001b[0m\u001b[1;32m      3\u001b[0m         \u001b[0mfilepath\u001b[0m\u001b[0;34m=\u001b[0m\u001b[0;34m\"feature_extraction_with_data_augmentation.keras\"\u001b[0m\u001b[0;34m,\u001b[0m\u001b[0;34m\u001b[0m\u001b[0;34m\u001b[0m\u001b[0m\n\u001b[1;32m      4\u001b[0m         \u001b[0msave_best_only\u001b[0m\u001b[0;34m=\u001b[0m\u001b[0;32mTrue\u001b[0m\u001b[0;34m,\u001b[0m\u001b[0;34m\u001b[0m\u001b[0;34m\u001b[0m\u001b[0m\n\u001b[1;32m      5\u001b[0m         monitor=\"val_loss\")\n",
            "\u001b[0;31mNameError\u001b[0m: name 'keras' is not defined"
          ]
        }
      ],
      "source": [
        "callbacks = [\n",
        "    keras.callbacks.ModelCheckpoint(\n",
        "        filepath=\"feature_extraction_with_data_augmentation.keras\",\n",
        "        save_best_only=True,\n",
        "        monitor=\"val_loss\")\n",
        "]\n",
        "history = model.fit(\n",
        "    train_dataset,\n",
        "    epochs=50,\n",
        "    validation_data=validation_dataset,\n",
        "    callbacks=callbacks)"
      ]
    },
    {
      "cell_type": "markdown",
      "metadata": {
        "id": "f_iFIxs5EFNX"
      },
      "source": [
        "**Evaluating the model on the test set**"
      ]
    },
    {
      "cell_type": "code",
      "execution_count": null,
      "metadata": {
        "id": "YFpBImaNEFNX"
      },
      "outputs": [],
      "source": [
        "test_model = keras.models.load_model(\n",
        "    \"feature_extraction_with_data_augmentation.keras\")\n",
        "test_loss, test_acc = test_model.evaluate(test_dataset)\n",
        "print(f\"Test accuracy: {test_acc:.3f}\")"
      ]
    },
    {
      "cell_type": "markdown",
      "metadata": {
        "id": "srfA12f4EFNX"
      },
      "source": [
        "### Fine-tuning a pretrained model"
      ]
    },
    {
      "cell_type": "code",
      "execution_count": null,
      "metadata": {
        "id": "06yMy7EEEFNX"
      },
      "outputs": [],
      "source": [
        "conv_base.summary()"
      ]
    },
    {
      "cell_type": "markdown",
      "metadata": {
        "id": "SHjV9gfpEFNY"
      },
      "source": [
        "**Freezing all layers until the fourth from the last**"
      ]
    },
    {
      "cell_type": "code",
      "execution_count": null,
      "metadata": {
        "id": "dD4HaVhuEFNY"
      },
      "outputs": [],
      "source": [
        "conv_base.trainable = True\n",
        "for layer in conv_base.layers[:-4]:\n",
        "    layer.trainable = False"
      ]
    },
    {
      "cell_type": "markdown",
      "metadata": {
        "id": "48OQILFlEFNY"
      },
      "source": [
        "**Fine-tuning the model**"
      ]
    },
    {
      "cell_type": "code",
      "execution_count": null,
      "metadata": {
        "id": "sGtzvCPBEFNY"
      },
      "outputs": [],
      "source": [
        "model.compile(loss=\"binary_crossentropy\",\n",
        "              optimizer=keras.optimizers.RMSprop(learning_rate=1e-5),\n",
        "              metrics=[\"accuracy\"])\n",
        "\n",
        "callbacks = [\n",
        "    keras.callbacks.ModelCheckpoint(\n",
        "        filepath=\"fine_tuning.keras\",\n",
        "        save_best_only=True,\n",
        "        monitor=\"val_loss\")\n",
        "]\n",
        "history = model.fit(\n",
        "    train_dataset,\n",
        "    epochs=30,\n",
        "    validation_data=validation_dataset,\n",
        "    callbacks=callbacks)"
      ]
    },
    {
      "cell_type": "code",
      "execution_count": null,
      "metadata": {
        "id": "OlIUZxD7EFNZ"
      },
      "outputs": [],
      "source": [
        "model = keras.models.load_model(\"fine_tuning.keras\")\n",
        "test_loss, test_acc = model.evaluate(test_dataset)\n",
        "print(f\"Test accuracy: {test_acc:.3f}\")"
      ]
    },
    {
      "cell_type": "markdown",
      "metadata": {
        "id": "MMxUSAUMEFNZ"
      },
      "source": [
        "## Summary"
      ]
    },
    {
      "cell_type": "markdown",
      "source": [
        "## Question 4 Solution: I can no longer run anymore code. I was given an error saying I ran out of GPU time and am not able to buy any more becuase of my account being a kent.edu, the school does not autorize google payments. But from what I can tell you, the testing accuracy should see a higher test accurasy based off running the model off a pretrained model. The newest test accuracy for the question 4 should be higher than all the test accuracies from the previous 3 questions, but the 4th question, the final highest test accuracy should be on the last problem ran, the one already based off of a already pre-trained model. "
      ],
      "metadata": {
        "id": "9kqVebLRyFEp"
      }
    },
    {
      "cell_type": "markdown",
      "source": [
        "##Write a report summarizing your findings. What is the relationship between training sample size and choice of network? \n",
        "Being able to train more samples makes a huge difference. As it was discovered as I went through each problem, the more samples I used, the higher the testing accuracy. With testing so many more samples comes having greater access to GPU, and processing times. Data augmentation is a important factor that can and should be added onto the convent process as it allows the model to avoid overfitting, onne of the main issues. When choosing a network to run, running convolution networks that you can customize filter sizes, batch sizes, and layers are key to fine tuning your model towards unique success. The ability to use pretrained networks and models is the final step you want to look towards when completing your task as the pretrainned model showed a increase in final test accuracy. Feature extractionn and fine-tuning should be two key aspects someonne takes away from their convent network with hopes it can be applied to future work. "
      ],
      "metadata": {
        "id": "FsNIt_Wf1vjg"
      }
    }
  ],
  "metadata": {
    "colab": {
      "collapsed_sections": [],
      "name": "Copy of chapter08_intro-to-dl-for-computer-vision.i",
      "provenance": [],
      "toc_visible": true,
      "include_colab_link": true
    },
    "kernelspec": {
      "display_name": "Python 3",
      "language": "python",
      "name": "python3"
    },
    "language_info": {
      "codemirror_mode": {
        "name": "ipython",
        "version": 3
      },
      "file_extension": ".py",
      "mimetype": "text/x-python",
      "name": "python",
      "nbconvert_exporter": "python",
      "pygments_lexer": "ipython3",
      "version": "3.7.0"
    },
    "accelerator": "GPU"
  },
  "nbformat": 4,
  "nbformat_minor": 0
}